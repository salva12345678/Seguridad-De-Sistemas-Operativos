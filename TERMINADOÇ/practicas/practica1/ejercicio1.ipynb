{
 "cells": [
  {
   "cell_type": "markdown",
   "metadata": {},
   "source": [
    "# PRACTICA 1:\n"
   ]
  },
  {
   "cell_type": "markdown",
   "metadata": {},
   "source": [
    "** 1) 1.Elabora un guion en Python que contenga funcionalidades sobre string capaces de hacer por separado lo siguiente:\n",
    "\n",
    "* Determinar los caracteres que ocurren en el string y la frecuencia de cada uno de ellos.\n",
    "* Eliminar del string los caracteres en blanco.\n",
    "* Adaptar los caracteres del string a un alfabeto dado.\n",
    "* Partir en bloques de un determinado tamaño ,pasando como argumento el string.\n",
    "* Traducir el string a una lista de enteros según una biyección prefijada.\n",
    "* Obtenga del string una representación binaria suya.\n",
    " "
   ]
  },
  {
   "cell_type": "code",
   "execution_count": 13,
   "metadata": {},
   "outputs": [],
   "source": [
    "def frecuencia (cadena):\n",
    "    caracteres =set ()\n",
    "    frecuencias = {}\n",
    "    listacadena=list(cadena)\n",
    "    \n",
    "    for caracter in cadena:\n",
    "        caracteres.add(caracter)\n",
    "        \n",
    "    for cantidad in caracteres:\n",
    "        frecuencias.setdefault(cantidad,listacadena.count(cantidad))\n",
    "    \n",
    "    return frecuencias"
   ]
  },
  {
   "cell_type": "code",
   "execution_count": 14,
   "metadata": {},
   "outputs": [
    {
     "data": {
      "text/plain": [
       "{'i': 1,\n",
       " 'h': 1,\n",
       " 's': 2,\n",
       " ' ': 5,\n",
       " 'u': 1,\n",
       " 'o': 1,\n",
       " 'q': 1,\n",
       " 'a': 3,\n",
       " 'e': 2,\n",
       " 'l': 2,\n",
       " 't': 2}"
      ]
     },
     "execution_count": 14,
     "metadata": {},
     "output_type": "execute_result"
    }
   ],
   "source": [
    "cadena=\"hola que tal estais  \"\n",
    "frecuencia(cadena)\n"
   ]
  },
  {
   "cell_type": "code",
   "execution_count": null,
   "metadata": {},
   "outputs": [],
   "source": [
    "\n",
    "def frecuencia1(cadena):\n",
    "    set(cadena)"
   ]
  },
  {
   "cell_type": "code",
   "execution_count": 28,
   "metadata": {},
   "outputs": [],
   "source": [
    "def eliminarespacios(cadena):\n",
    "    listacadena=list(cadena)\n",
    "    while listacadena.count(\" \") != 0:  \n",
    "        listacadena.remove(\" \")\n",
    "        \n",
    "    cadena1 = \"\".join(listacadena)    \n",
    "    return cadena1"
   ]
  },
  {
   "cell_type": "code",
   "execution_count": 29,
   "metadata": {},
   "outputs": [
    {
     "data": {
      "text/plain": [
       "'holaquetalestais'"
      ]
     },
     "execution_count": 29,
     "metadata": {},
     "output_type": "execute_result"
    }
   ],
   "source": [
    "cadena=\"hola qu   e    tal estais  \"\n",
    "eliminarespacios(cadena)"
   ]
  },
  {
   "cell_type": "code",
   "execution_count": 42,
   "metadata": {},
   "outputs": [],
   "source": [
    "def pasarbinario(cadena):\n",
    "        return' '.join(format(ord(x), 'b') for x in cadena)\n",
    "         "
   ]
  },
  {
   "cell_type": "code",
   "execution_count": 43,
   "metadata": {},
   "outputs": [
    {
     "data": {
      "text/plain": [
       "'1101000 1101111 1101100 1100001 100000 1110001 1110101 1100101 100000 100000 100000 100000 1110100 1100001 1101100 100000 1100101 1110011 1110100 1100001 1101001 1110011 100000 100000'"
      ]
     },
     "execution_count": 43,
     "metadata": {},
     "output_type": "execute_result"
    }
   ],
   "source": [
    "cadena=\"hola que    tal estais  \"\n",
    "pasarbinario(cadena)"
   ]
  },
  {
   "cell_type": "markdown",
   "metadata": {},
   "source": [
    "### Cogemos los dos alfabetos que se dan en la teoria y creo varias funciones "
   ]
  },
  {
   "cell_type": "code",
   "execution_count": 86,
   "metadata": {},
   "outputs": [],
   "source": [
    "alfabetof='ABCDEFGHIJKLMNOPQRSTUVWXYZ'\n",
    "alfabetog=' abcdefghijklmnopqrstuvwxyz0123456789,.;:'\n",
    "\n",
    "def codifica_letra(letra):\n",
    "    if letra in alfabetof:\n",
    "        return alfabetof.index(letra)\n",
    "    else:\n",
    "        return alfabetog.index(letra)\n",
    "\n",
    "def decodifica_letra(numero):\n",
    "    return alfabetog[numero]\n",
    "\n",
    "def codifica_texto(cadena):\n",
    "    numeros = []\n",
    "    for n in cadena:\n",
    "        numeros.append(codifica_letra(n))\n",
    "    return numeros\n",
    "        \n",
    "def descodifica_texto(numeros):\n",
    "    return ''.join([decodifica_letra(i) for i in numeros])"
   ]
  },
  {
   "cell_type": "code",
   "execution_count": 103,
   "metadata": {},
   "outputs": [
    {
     "data": {
      "text/plain": [
       "'bcde'"
      ]
     },
     "execution_count": 103,
     "metadata": {},
     "output_type": "execute_result"
    }
   ],
   "source": [
    "texto=\"bcde\"\n",
    "coditexto=codifica_texto(texto)\n",
    "coditexto\n",
    "#numeros=[3, 5, 2, 1, 0, 13, 21, 1, 4, 15]\n",
    "descodifica_texto(coditexto)"
   ]
  },
  {
   "cell_type": "markdown",
   "metadata": {},
   "source": [
    "### He cogido la biyección cesar\n",
    " "
   ]
  },
  {
   "cell_type": "code",
   "execution_count": 79,
   "metadata": {},
   "outputs": [],
   "source": [
    "def funcion_cesar(texto, k):\n",
    "    L=len(alfabetof)\n",
    "    numeros = codifica_texto(texto)\n",
    "    encriptado = [(j+k)%L for j in numeros]\n",
    "    return encriptado\n"
   ]
  },
  {
   "cell_type": "code",
   "execution_count": 80,
   "metadata": {},
   "outputs": [
    {
     "data": {
      "text/plain": [
       "[11, 18, 15, 9]"
      ]
     },
     "execution_count": 80,
     "metadata": {},
     "output_type": "execute_result"
    }
   ],
   "source": [
    "funcion_cesar('holf',3)\n"
   ]
  },
  {
   "cell_type": "markdown",
   "metadata": {},
   "source": [
    "### Partir en bloques un string de determinado tamaño"
   ]
  },
  {
   "cell_type": "code",
   "execution_count": 104,
   "metadata": {},
   "outputs": [
    {
     "ename": "SyntaxError",
     "evalue": "unexpected EOF while parsing (<ipython-input-104-170a49f5493f>, line 3)",
     "output_type": "error",
     "traceback": [
      "\u001b[0;36m  File \u001b[0;32m\"<ipython-input-104-170a49f5493f>\"\u001b[0;36m, line \u001b[0;32m3\u001b[0m\n\u001b[0;31m    \u001b[0m\n\u001b[0m    ^\u001b[0m\n\u001b[0;31mSyntaxError\u001b[0m\u001b[0;31m:\u001b[0m unexpected EOF while parsing\n"
     ]
    }
   ],
   "source": [
    "def partirbloques(cadena,tam):\n",
    "    lista={}\n",
    "    for i in listacadena:\n",
    "        if i % tam == 0:\n",
    "            lista = lista + \n",
    "            \n",
    "        \n"
   ]
  },
  {
   "cell_type": "code",
   "execution_count": 111,
   "metadata": {},
   "outputs": [
    {
     "name": "stdout",
     "output_type": "stream",
     "text": [
      "['h', 'o', 'l', 'a']\n"
     ]
    }
   ],
   "source": [
    "cadena=\"hola\"\n",
    "listacadena=list(cadena)\n",
    "print (listacadena)"
   ]
  },
  {
   "cell_type": "markdown",
   "metadata": {},
   "source": [
    "4.Elabora un guion en Sagemath que culmine en una funcion iCRT capaz de decidir si determinado sistema de congruencias , enteras o polinomiales,tiene solucion y la proporcione en caso de existir."
   ]
  }
 ],
 "metadata": {
  "anaconda-cloud": {},
  "kernelspec": {
   "display_name": "Python 3",
   "language": "python",
   "name": "python3"
  },
  "language_info": {
   "codemirror_mode": {
    "name": "ipython",
    "version": 3
   },
   "file_extension": ".py",
   "mimetype": "text/x-python",
   "name": "python",
   "nbconvert_exporter": "python",
   "pygments_lexer": "ipython3",
   "version": "3.6.8"
  }
 },
 "nbformat": 4,
 "nbformat_minor": 1
}
