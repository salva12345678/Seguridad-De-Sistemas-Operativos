{
 "cells": [
  {
   "cell_type": "markdown",
   "metadata": {},
   "source": [
    "# Practica 1"
   ]
  },
  {
   "cell_type": "markdown",
   "metadata": {},
   "source": [
    "4.Elabora un guion en Sagemath que culmine en una funcion iCRT capaz de decidir si determinado sistema de congruencias , enteras o polinomiales,tiene solucion y la proporcione en caso de existir."
   ]
  },
  {
   "cell_type": "markdown",
   "metadata": {},
   "source": [
    "## Sistema de congruencias Entera"
   ]
  },
  {
   "cell_type": "markdown",
   "metadata": {},
   "source": [
    "Maximo comun divisor"
   ]
  },
  {
   "cell_type": "code",
   "execution_count": 8,
   "metadata": {},
   "outputs": [],
   "source": [
    "def mcd(n1,n2):\n",
    "    return (n1.gcd(n2))"
   ]
  },
  {
   "cell_type": "code",
   "execution_count": 9,
   "metadata": {},
   "outputs": [
    {
     "data": {
      "text/plain": [
       "2"
      ]
     },
     "execution_count": 9,
     "metadata": {},
     "output_type": "execute_result"
    }
   ],
   "source": [
    "mcd(2,4)"
   ]
  },
  {
   "cell_type": "markdown",
   "metadata": {},
   "source": [
    "Función que le hace el modulo a la ecuacion"
   ]
  },
  {
   "cell_type": "code",
   "execution_count": 10,
   "metadata": {},
   "outputs": [],
   "source": [
    "def modulo(n1,n2,n3):\n",
    "    n1=n1 % n3\n",
    "    n2=n2 % n3\n",
    "    return n1,n2"
   ]
  },
  {
   "cell_type": "code",
   "execution_count": 11,
   "metadata": {},
   "outputs": [
    {
     "data": {
      "text/plain": [
       "(2, 2)"
      ]
     },
     "execution_count": 11,
     "metadata": {},
     "output_type": "execute_result"
    }
   ],
   "source": [
    "modulo (10,2,4)"
   ]
  },
  {
   "cell_type": "markdown",
   "metadata": {},
   "source": [
    "Saber si la ecuacion en congruencia tiene solucion \n",
    "ax=b mod m ==> mcd(a,m)/ b donde n1=a,n2=b,n3=m"
   ]
  },
  {
   "cell_type": "code",
   "execution_count": 12,
   "metadata": {},
   "outputs": [],
   "source": [
    "def tienesolucion(n1,n2,n3):\n",
    "    k=mcd(n1,n3)\n",
    "    if ( n2 % k != 0):\n",
    "        return false\n",
    "    else:\n",
    "        return true\n"
   ]
  },
  {
   "cell_type": "code",
   "execution_count": 13,
   "metadata": {},
   "outputs": [
    {
     "data": {
      "text/plain": [
       "True"
      ]
     },
     "execution_count": 13,
     "metadata": {},
     "output_type": "execute_result"
    }
   ],
   "source": [
    "tienesolucion(10,2,4)"
   ]
  },
  {
   "cell_type": "markdown",
   "metadata": {},
   "source": [
    "Función de que reduce la ecuacion si tiene solucion y el maximo comun divisor es mayor que uno que divida toda la función por ese numero"
   ]
  },
  {
   "cell_type": "code",
   "execution_count": 14,
   "metadata": {},
   "outputs": [],
   "source": [
    "def reducirecuacion(n1,n2,n3):\n",
    "    k=mcd(n1,n3)\n",
    "    n1=n1/k\n",
    "    n2=n2/k\n",
    "    n3=n3/k\n",
    "    return n1,n2,n3"
   ]
  },
  {
   "cell_type": "code",
   "execution_count": 15,
   "metadata": {},
   "outputs": [
    {
     "data": {
      "text/plain": [
       "(1, 1, 2)"
      ]
     },
     "execution_count": 15,
     "metadata": {},
     "output_type": "execute_result"
    }
   ],
   "source": [
    "reducirecuacion(2,2,4)"
   ]
  },
  {
   "cell_type": "markdown",
   "metadata": {},
   "source": [
    "calcular los coeficientes de bezout (algoritmo extendido de euclides)"
   ]
  },
  {
   "cell_type": "code",
   "execution_count": 16,
   "metadata": {},
   "outputs": [],
   "source": [
    "def bezout(m,n):\n",
    "    (d,u,v)=xgcd(m,n)\n",
    "    return u\n",
    "\n"
   ]
  },
  {
   "cell_type": "code",
   "execution_count": 17,
   "metadata": {},
   "outputs": [
    {
     "data": {
      "text/plain": [
       "1"
      ]
     },
     "execution_count": 17,
     "metadata": {},
     "output_type": "execute_result"
    }
   ],
   "source": [
    "bezout(1,2)"
   ]
  },
  {
   "cell_type": "markdown",
   "metadata": {},
   "source": [
    "Función que resuelve una ecuación en congruencia"
   ]
  },
  {
   "cell_type": "code",
   "execution_count": 18,
   "metadata": {},
   "outputs": [],
   "source": [
    "def ecuacioncongruencia(n1,n2,n3):\n",
    "    n1,n2=modulo(n1,n2,n3)\n",
    "    if tienesolucion(n1,n2,n3):\n",
    "       n1,n2,n3= reducirecuacion(n1,n2,n3)\n",
    "       u=bezout(n1,n3)\n",
    "       n1=n1*u\n",
    "       n2=n2*u\n",
    "       n1,n2=modulo(n1,n2,n3)\n",
    "       return n2,n3 \n",
    "    else:\n",
    "        print \"no hay solucion\""
   ]
  },
  {
   "cell_type": "code",
   "execution_count": 19,
   "metadata": {},
   "outputs": [
    {
     "data": {
      "text/plain": [
       "(2, 7)"
      ]
     },
     "execution_count": 19,
     "metadata": {},
     "output_type": "execute_result"
    }
   ],
   "source": [
    "ecuacioncongruencia(5,3,7)"
   ]
  },
  {
   "cell_type": "markdown",
   "metadata": {},
   "source": [
    "Función que resuelve un sistema de ecuaciónes en congruencia"
   ]
  },
  {
   "cell_type": "code",
   "execution_count": 20,
   "metadata": {},
   "outputs": [],
   "source": [
    "def siscongruencias(a1,b1,c1,a2,b2,c2):\n",
    "    b1,c1=ecuacioncongruencia(a1,b1,c1)\n",
    "    aux1,aux2=a2*b1,a2*c1\n",
    "    b2,c2=ecuacioncongruencia(aux2,b2-aux1,c2)\n",
    "    y=b1+(c1*b2)\n",
    "    z=c1*c2\n",
    "    return y,z"
   ]
  },
  {
   "cell_type": "code",
   "execution_count": null,
   "metadata": {},
   "outputs": [],
   "source": []
  },
  {
   "cell_type": "code",
   "execution_count": 21,
   "metadata": {},
   "outputs": [
    {
     "data": {
      "text/plain": [
       "(16231584, 66990895)"
      ]
     },
     "execution_count": 21,
     "metadata": {},
     "output_type": "execute_result"
    }
   ],
   "source": [
    "siscongruencias(1,5495,7643,1,7569,8765)"
   ]
  },
  {
   "cell_type": "code",
   "execution_count": 22,
   "metadata": {},
   "outputs": [],
   "source": [
    "def solcong(a,b,m):\n",
    "    a,b,m=a,b,m\n",
    "    x=xgcd(a,m)\n",
    "    if b % x[0]:\n",
    "        #return 'no tiene solucion'\n",
    "        return [0,0]\n",
    "    else:\n",
    "        m ,b= m // x[0],b // x[0]\n",
    "    return [b*x[1] % m , m]"
   ]
  },
  {
   "cell_type": "code",
   "execution_count": 23,
   "metadata": {},
   "outputs": [
    {
     "data": {
      "text/plain": [
       "[2, 7]"
      ]
     },
     "execution_count": 23,
     "metadata": {},
     "output_type": "execute_result"
    }
   ],
   "source": [
    "solcong(5,3,7)"
   ]
  },
  {
   "cell_type": "code",
   "execution_count": 24,
   "metadata": {},
   "outputs": [],
   "source": [
    "def sisCong(lista1):\n",
    "    s = [0,1]\n",
    "    while len(lista1)>2 and s[1]:\n",
    "        t=solcong(lista1[0]*s[1],lista1[1]-lista1[0]*s[0],lista1[2])\n",
    "        s = [s[0]+s[1] * t[0],t[1]*s[1]]\n",
    "        lista1[0:3]=[]\n",
    "    if s[1]:\n",
    "        return s\n",
    "    else:\n",
    "         return 'no tiene solucion'\n",
    "        \n",
    "        \n",
    "        "
   ]
  },
  {
   "cell_type": "code",
   "execution_count": 25,
   "metadata": {},
   "outputs": [
    {
     "data": {
      "text/plain": [
       "[16231584, 66990895]"
      ]
     },
     "execution_count": 25,
     "metadata": {},
     "output_type": "execute_result"
    }
   ],
   "source": [
    "sisCong([1,5495,7643,1,7569,8765])"
   ]
  },
  {
   "cell_type": "markdown",
   "metadata": {},
   "source": [
    "## Sistema de congruencias polinomiales"
   ]
  },
  {
   "cell_type": "markdown",
   "metadata": {},
   "source": [
    "Definimos el anillo de polinomios"
   ]
  },
  {
   "cell_type": "code",
   "execution_count": 25,
   "metadata": {},
   "outputs": [],
   "source": [
    "R = PolynomialRing(QQ, 'x')\n",
    "Z.<x>=GF(11)[];"
   ]
  },
  {
   "cell_type": "code",
   "execution_count": 22,
   "metadata": {},
   "outputs": [],
   "source": [
    "f = (x-1)^3 * (x-6) * (3*x - 10) "
   ]
  },
  {
   "cell_type": "code",
   "execution_count": 23,
   "metadata": {},
   "outputs": [],
   "source": [
    "p = (x-1)^2 * (x-6)^2 * (x^2 + 1)"
   ]
  },
  {
   "cell_type": "code",
   "execution_count": 24,
   "metadata": {},
   "outputs": [],
   "source": [
    "g = x^2 - 4*x + 1"
   ]
  },
  {
   "cell_type": "code",
   "execution_count": 26,
   "metadata": {},
   "outputs": [],
   "source": [
    "lista1=[f,p,g]"
   ]
  },
  {
   "cell_type": "code",
   "execution_count": 27,
   "metadata": {},
   "outputs": [
    {
     "data": {
      "text/plain": [
       "[2, x^2 + 2*x + 1]"
      ]
     },
     "execution_count": 27,
     "metadata": {},
     "output_type": "execute_result"
    }
   ],
   "source": [
    "sisCong(lista1)"
   ]
  },
  {
   "cell_type": "code",
   "execution_count": null,
   "metadata": {},
   "outputs": [],
   "source": []
  },
  {
   "cell_type": "code",
   "execution_count": null,
   "metadata": {},
   "outputs": [],
   "source": [
    "\n",
    "\n"
   ]
  },
  {
   "cell_type": "code",
   "execution_count": null,
   "metadata": {},
   "outputs": [],
   "source": []
  },
  {
   "cell_type": "code",
   "execution_count": null,
   "metadata": {},
   "outputs": [],
   "source": []
  },
  {
   "cell_type": "code",
   "execution_count": 26,
   "metadata": {},
   "outputs": [],
   "source": [
    "def frecuencia (cadena):\n",
    "    alfabetof='ABCDEFGHIJKLMNOPQRSTUVWXYZ'\n",
    "    caracteres =set ()\n",
    "    frecuencias = {}\n",
    "    listacadena=list(cadena)\n",
    "    \n",
    "    for caracter in alfabetof:\n",
    "        caracteres.add(caracter)\n",
    "        \n",
    "    for cantidad in caracteres:\n",
    "        frecuencias.setdefault(cantidad,listacadena.count(cantidad))\n",
    "    \n",
    "    return frecuencias"
   ]
  },
  {
   "cell_type": "code",
   "execution_count": 35,
   "metadata": {},
   "outputs": [],
   "source": [
    "lista=[19,4,26]"
   ]
  },
  {
   "cell_type": "code",
   "execution_count": 36,
   "metadata": {},
   "outputs": [
    {
     "data": {
      "text/plain": [
       "[18, 26]"
      ]
     },
     "execution_count": 36,
     "metadata": {},
     "output_type": "execute_result"
    }
   ],
   "source": [
    "sisCong(lista)"
   ]
  },
  {
   "cell_type": "code",
   "execution_count": null,
   "metadata": {},
   "outputs": [],
   "source": []
  }
 ],
 "metadata": {
  "kernelspec": {
   "display_name": "SageMath 8.1",
   "language": "",
   "name": "sagemath"
  },
  "language": "python",
  "language_info": {
   "codemirror_mode": {
    "name": "ipython",
    "version": 2
   },
   "file_extension": ".py",
   "mimetype": "text/x-python",
   "name": "python",
   "nbconvert_exporter": "python",
   "pygments_lexer": "ipython2",
   "version": "2.7.15+"
  }
 },
 "nbformat": 4,
 "nbformat_minor": 2
}
