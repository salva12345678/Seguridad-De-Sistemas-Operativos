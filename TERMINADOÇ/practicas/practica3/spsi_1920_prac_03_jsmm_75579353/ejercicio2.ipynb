{
 "cells": [
  {
   "cell_type": "markdown",
   "metadata": {},
   "source": [
    "# Practica 3\n"
   ]
  },
  {
   "cell_type": "markdown",
   "metadata": {},
   "source": [
    "2.Elabore un guion de Sagemath que culmine en funciones o funcion que implemente el criptosistema de Hill."
   ]
  },
  {
   "cell_type": "markdown",
   "metadata": {},
   "source": [
    "## Funciones usadas para resolver el ejercicio."
   ]
  },
  {
   "cell_type": "markdown",
   "metadata": {},
   "source": [
    "Tenemos que declarar una matriz que será nuestra clave y otra que será nuestro mensaje."
   ]
  },
  {
   "cell_type": "code",
   "execution_count": 106,
   "metadata": {},
   "outputs": [],
   "source": [
    "alfabetof='ABCDEFGHIJKLMNOPQRSTUVWXYZ'"
   ]
  },
  {
   "cell_type": "code",
   "execution_count": 107,
   "metadata": {},
   "outputs": [],
   "source": [
    "def codifica_letra(letra):\n",
    "    return alfabetof.index(letra)\n",
    "\n",
    "def decodifica_letra(numero):\n",
    "    return alfabetof[numero]\n",
    "\n",
    "def codifica_texto(cadena):\n",
    "    numeros = []\n",
    "    for n in cadena:\n",
    "        numeros.append(codifica_letra(n))\n",
    "    return numeros\n",
    "        \n",
    "def descodifica_texto(numeros):\n",
    "    return ''.join([decodifica_letra(i) for i in numeros])\n"
   ]
  },
  {
   "cell_type": "markdown",
   "metadata": {},
   "source": [
    "Primero buscamos una matriz que tenga inverso para que podamos desencriptar el mensaje en la parte final"
   ]
  },
  {
   "cell_type": "code",
   "execution_count": 108,
   "metadata": {},
   "outputs": [],
   "source": [
    "S =  matrix(Integers(26),3,[1,2,11,1,3,5,3,1,0]); "
   ]
  },
  {
   "cell_type": "code",
   "execution_count": 109,
   "metadata": {},
   "outputs": [
    {
     "data": {
      "text/plain": [
       "[ 1  2 11]\n",
       "[ 1  3  5]\n",
       "[ 3  1  0]"
      ]
     },
     "execution_count": 109,
     "metadata": {},
     "output_type": "execute_result"
    }
   ],
   "source": [
    "S"
   ]
  },
  {
   "cell_type": "code",
   "execution_count": 110,
   "metadata": {},
   "outputs": [
    {
     "data": {
      "text/plain": [
       "[17 25 21]\n",
       "[ 1  3 16]\n",
       "[22  9  7]"
      ]
     },
     "execution_count": 110,
     "metadata": {},
     "output_type": "execute_result"
    }
   ],
   "source": [
    "R = S.inverse();\n",
    "R"
   ]
  },
  {
   "cell_type": "markdown",
   "metadata": {},
   "source": [
    "Vemos que esta matriz tiene inversa por lo tanto nos vale.Luego usaremos se implemetara todo en una funcion o funciones"
   ]
  },
  {
   "cell_type": "markdown",
   "metadata": {},
   "source": [
    "Ahora creamos un mensaje para encriptarlo"
   ]
  },
  {
   "cell_type": "code",
   "execution_count": 111,
   "metadata": {},
   "outputs": [],
   "source": [
    "cadena=\"MELLAMONEREA\""
   ]
  },
  {
   "cell_type": "code",
   "execution_count": 112,
   "metadata": {},
   "outputs": [
    {
     "data": {
      "text/plain": [
       "[12, 4, 11, 11, 0, 12, 14, 13, 4, 17, 4, 0]"
      ]
     },
     "execution_count": 112,
     "metadata": {},
     "output_type": "execute_result"
    }
   ],
   "source": [
    "cadena_numerica=codifica_texto(cadena)\n",
    "cadena_numerica"
   ]
  },
  {
   "cell_type": "code",
   "execution_count": 113,
   "metadata": {},
   "outputs": [],
   "source": [
    "k1 =  matrix(Integers(26),3,[12,4,11]); \n",
    "k2 =  matrix(Integers(26),3,[11,0,12]); \n",
    "k3 =  matrix(Integers(26),3,[14,13,4]); \n",
    "k4 =  matrix(Integers(26),3,[17,4,0]); "
   ]
  },
  {
   "cell_type": "code",
   "execution_count": 114,
   "metadata": {},
   "outputs": [
    {
     "data": {
      "text/plain": [
       "(\n",
       "[12]  [11]  [14]  [17]\n",
       "[ 4]  [ 0]  [13]  [ 4]\n",
       "[11], [12], [ 4], [ 0]\n",
       ")"
      ]
     },
     "execution_count": 114,
     "metadata": {},
     "output_type": "execute_result"
    }
   ],
   "source": [
    "k1,k2,k3,k4"
   ]
  },
  {
   "cell_type": "code",
   "execution_count": 115,
   "metadata": {},
   "outputs": [],
   "source": [
    "k1_crip1=S*k1\n",
    "k1_crip2=S*k2\n",
    "k1_crip3=S*k3\n",
    "k1_crip4=S*k4\n"
   ]
  },
  {
   "cell_type": "code",
   "execution_count": 116,
   "metadata": {},
   "outputs": [
    {
     "data": {
      "text/plain": [
       "(\n",
       "[11]  [13]  [ 6]  [25]\n",
       "[ 1]  [19]  [21]  [ 3]\n",
       "[14], [ 7], [ 3], [ 3]\n",
       ")"
      ]
     },
     "execution_count": 116,
     "metadata": {},
     "output_type": "execute_result"
    }
   ],
   "source": [
    "k1_crip1,k1_crip2,k1_crip3,k1_crip4"
   ]
  },
  {
   "cell_type": "code",
   "execution_count": 117,
   "metadata": {},
   "outputs": [],
   "source": [
    "lista_encriptada=[11,1,14,13,19,7,6,21,3,25,3,3]"
   ]
  },
  {
   "cell_type": "code",
   "execution_count": 118,
   "metadata": {},
   "outputs": [],
   "source": [
    "lista_encrp=descodifica_texto(lista_encriptada)"
   ]
  },
  {
   "cell_type": "code",
   "execution_count": 119,
   "metadata": {},
   "outputs": [
    {
     "data": {
      "text/plain": [
       "'LBONTHGVDZDD'"
      ]
     },
     "execution_count": 119,
     "metadata": {},
     "output_type": "execute_result"
    }
   ],
   "source": [
    "lista_encrp"
   ]
  },
  {
   "cell_type": "markdown",
   "metadata": {},
   "source": [
    "Utilizamos la  matriz inversa"
   ]
  },
  {
   "cell_type": "code",
   "execution_count": 14,
   "metadata": {},
   "outputs": [],
   "source": [
    "k1 =  matrix(Integers(26),3,[11,1,14]); \n",
    "k2 =  matrix(Integers(26),3,[13,19,7]); \n",
    "k3 =  matrix(Integers(26),3,[6,21,3]); \n",
    "k4 =  matrix(Integers(26),3,[25,3,3]); "
   ]
  },
  {
   "cell_type": "code",
   "execution_count": 15,
   "metadata": {},
   "outputs": [],
   "source": [
    "k1_crip1=R*k1\n",
    "k1_crip2=R*k2\n",
    "k1_crip3=R*k3\n",
    "k1_crip4=R*k4"
   ]
  },
  {
   "cell_type": "code",
   "execution_count": 16,
   "metadata": {},
   "outputs": [
    {
     "data": {
      "text/plain": [
       "(\n",
       "[12]  [11]  [14]  [17]\n",
       "[ 4]  [ 0]  [13]  [ 4]\n",
       "[11], [12], [ 4], [ 0]\n",
       ")"
      ]
     },
     "execution_count": 16,
     "metadata": {},
     "output_type": "execute_result"
    }
   ],
   "source": [
    "k1_crip1,k1_crip2,k1_crip3,k1_crip4"
   ]
  },
  {
   "cell_type": "code",
   "execution_count": 17,
   "metadata": {},
   "outputs": [],
   "source": [
    "lista_encriptada=[12,4,11,11,0,12,14,13,4,17,4,0]"
   ]
  },
  {
   "cell_type": "code",
   "execution_count": 25,
   "metadata": {},
   "outputs": [
    {
     "data": {
      "text/plain": [
       "'MELLAMONEREA'"
      ]
     },
     "execution_count": 25,
     "metadata": {},
     "output_type": "execute_result"
    }
   ],
   "source": [
    "lista_encrp=descodifica_texto(lista_encriptada)\n",
    "lista_encrp"
   ]
  },
  {
   "cell_type": "markdown",
   "metadata": {},
   "source": [
    "Función de HILL:\n",
    "\n",
    "Usos--\n",
    "\n",
    "N es el tamaño de la matriz clave .\n",
    "\n",
    "Nos será util para calcular cuantas filas usaremos en la matriz que queremos encriptar.\n",
    "\n",
    "La clave debe tener una longitud multiplo de N para que se encripte sino no tendrá en cuenta los n-1 y n-2 en el caso de N=3.\n",
    "\n",
    "Para saber si se está metiendo una clave que tenga inversa mostrará un error en el caso que no."
   ]
  },
  {
   "cell_type": "code",
   "execution_count": 220,
   "metadata": {},
   "outputs": [],
   "source": [
    "N=3\n",
    "matrizClave = matrix(Integers(26),N,[1,2,11,1,3,5,3,1,0]); \n",
    "cadena=\"MELLAMONEREA\""
   ]
  },
  {
   "cell_type": "code",
   "execution_count": 221,
   "metadata": {},
   "outputs": [],
   "source": [
    "def funcion_hill(matrizClave,texto,N):\n",
    "    Inverso=matrizClave.inverse()\n",
    "    numerotexto=codifica_texto(texto)\n",
    "    fila=len(numerotexto)/N\n",
    "    matriz = []\n",
    "    lista1=[]\n",
    "    for i in range(N):\n",
    "        matriz.append([])\n",
    "        for j in range(fila):\n",
    "            matriz[i].append(numerotexto[i+(j*N)])\n",
    "    matribuena=matrix(Integers(26),N,matriz);\n",
    "    matrizencriptada=matrizClave*matribuena\n",
    "    \n",
    "    for j in range(fila):\n",
    "        for i in range(N):\n",
    "            lista1.append(matrizencriptada[i][j])\n",
    "    mensajeencriptado=descodifica_texto(lista1)\n",
    "    \n",
    "    return mensajeencriptado"
   ]
  },
  {
   "cell_type": "code",
   "execution_count": 223,
   "metadata": {},
   "outputs": [
    {
     "data": {
      "text/plain": [
       "'LBONTHGVDZDD'"
      ]
     },
     "execution_count": 223,
     "metadata": {},
     "output_type": "execute_result"
    }
   ],
   "source": [
    "r=funcion_hill(matrizClave,cadena,N)\n",
    "r\n"
   ]
  },
  {
   "cell_type": "markdown",
   "metadata": {},
   "source": [
    "Para desencriptar solo seria usar la matriz inversa"
   ]
  },
  {
   "cell_type": "code",
   "execution_count": 232,
   "metadata": {},
   "outputs": [],
   "source": [
    "def funcion_hill_inversa(matrizClave,texto,N):\n",
    "    Inverso=matrizClave.inverse()\n",
    "    numerotexto=codifica_texto(texto)\n",
    "    fila=len(numerotexto)/N\n",
    "    matriz = []\n",
    "    lista1=[]\n",
    "    for i in range(N):\n",
    "        matriz.append([])\n",
    "        for j in range(fila):\n",
    "            matriz[i].append(numerotexto[i+(j*N)])\n",
    "    matribuena=matrix(Integers(26),N,matriz);\n",
    "    matrizdesencriptada=Inverso*matribuena\n",
    "    \n",
    "    for j in range(fila):\n",
    "        for i in range(N):\n",
    "            lista1.append(matrizdesencriptada[i][j])\n",
    "    mensajedesencriptado=descodifica_texto(lista1)\n",
    "    \n",
    "    return mensajedesencriptado"
   ]
  },
  {
   "cell_type": "code",
   "execution_count": 233,
   "metadata": {},
   "outputs": [],
   "source": [
    "cadena=\"LBONTHGVDZDD\""
   ]
  },
  {
   "cell_type": "code",
   "execution_count": 234,
   "metadata": {},
   "outputs": [
    {
     "data": {
      "text/plain": [
       "'MELLAMONEREA'"
      ]
     },
     "execution_count": 234,
     "metadata": {},
     "output_type": "execute_result"
    }
   ],
   "source": [
    "funcion_hill_inversa(matrizClave,cadena,N)"
   ]
  },
  {
   "cell_type": "code",
   "execution_count": null,
   "metadata": {},
   "outputs": [],
   "source": []
  }
 ],
 "metadata": {
  "kernelspec": {
   "display_name": "SageMath 8.1",
   "language": "",
   "name": "sagemath"
  },
  "language": "python",
  "language_info": {
   "codemirror_mode": {
    "name": "ipython",
    "version": 2
   },
   "file_extension": ".py",
   "mimetype": "text/x-python",
   "name": "python",
   "nbconvert_exporter": "python",
   "pygments_lexer": "ipython2",
   "version": "2.7.15+"
  }
 },
 "nbformat": 4,
 "nbformat_minor": 2
}
