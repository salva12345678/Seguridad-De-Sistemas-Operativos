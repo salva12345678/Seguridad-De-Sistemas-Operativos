{
 "cells": [
  {
   "cell_type": "code",
   "execution_count": null,
   "metadata": {},
   "outputs": [],
   "source": [
    "# Aritmética entera: primos y factorización"
   ]
  },
  {
   "cell_type": "code",
   "execution_count": 1,
   "metadata": {},
   "outputs": [
    {
     "data": {
      "text/plain": [
       "True"
      ]
     },
     "execution_count": 1,
     "metadata": {},
     "output_type": "execute_result"
    }
   ],
   "source": [
    "a = 9998743; \n",
    "a.is_prime()         # sabemos que 9998743 es primo\n"
   ]
  },
  {
   "cell_type": "code",
   "execution_count": null,
   "metadata": {},
   "outputs": [],
   "source": [
    "81.is_prime_power()               # sabemos que 81 = 3^4"
   ]
  },
  {
   "cell_type": "code",
   "execution_count": null,
   "metadata": {},
   "outputs": [],
   "source": [
    "100.is_prime_power()              # sin embargo 100 = 2^2*5^2"
   ]
  },
  {
   "cell_type": "code",
   "execution_count": 1,
   "metadata": {},
   "outputs": [
    {
     "ename": "SyntaxError",
     "evalue": "invalid syntax (<ipython-input-1-92cff07a9f91>, line 1)",
     "output_type": "error",
     "traceback": [
      "\u001b[0;36m  File \u001b[0;32m\"<ipython-input-1-92cff07a9f91>\"\u001b[0;36m, line \u001b[0;32m1\u001b[0m\n\u001b[0;31m    9.next_prime()\u001b[0m\n\u001b[0m               ^\u001b[0m\n\u001b[0;31mSyntaxError\u001b[0m\u001b[0;31m:\u001b[0m invalid syntax\n"
     ]
    }
   ],
   "source": [
    "9.next_prime()"
   ]
  },
  {
   "cell_type": "code",
   "execution_count": 2,
   "metadata": {},
   "outputs": [
    {
     "data": {
      "text/plain": [
       "11"
      ]
     },
     "execution_count": 2,
     "metadata": {},
     "output_type": "execute_result"
    }
   ],
   "source": [
    "next_prime(9)"
   ]
  },
  {
   "cell_type": "code",
   "execution_count": null,
   "metadata": {},
   "outputs": [],
   "source": [
    "next_prime(-100)"
   ]
  },
  {
   "cell_type": "code",
   "execution_count": null,
   "metadata": {},
   "outputs": [],
   "source": [
    "previous_prime(16)"
   ]
  },
  {
   "cell_type": "code",
   "execution_count": null,
   "metadata": {},
   "outputs": [],
   "source": [
    "nth_prime(3) # muestra el n-ésimo primo, el primero es 2 y el tercero es 5"
   ]
  },
  {
   "cell_type": "code",
   "execution_count": null,
   "metadata": {},
   "outputs": [],
   "source": [
    "next_prime_power(14)"
   ]
  },
  {
   "cell_type": "code",
   "execution_count": null,
   "metadata": {},
   "outputs": [],
   "source": [
    "previous_prime_power(90) # no olvidemos que 89 = 89^1 y 89 es primo."
   ]
  },
  {
   "cell_type": "code",
   "execution_count": null,
   "metadata": {},
   "outputs": [],
   "source": [
    "factor(360)"
   ]
  },
  {
   "cell_type": "code",
   "execution_count": null,
   "metadata": {},
   "outputs": [],
   "source": [
    "a = 360; a.factor() # se pide factorizar 360"
   ]
  },
  {
   "cell_type": "code",
   "execution_count": null,
   "metadata": {},
   "outputs": [],
   "source": [
    "360 == 2^3 * 3^2 * 5   # ésta es la comprobación de lo anterior"
   ]
  },
  {
   "cell_type": "code",
   "execution_count": null,
   "metadata": {},
   "outputs": [],
   "source": [
    "divisors(180); 180.divisors()  # las dos formas de calcular los divisores de 180"
   ]
  },
  {
   "cell_type": "code",
   "execution_count": null,
   "metadata": {},
   "outputs": [],
   "source": [
    "divisors(28),sum(divisors(28)), 2*28"
   ]
  },
  {
   "cell_type": "code",
   "execution_count": 48,
   "metadata": {},
   "outputs": [
    {
     "data": {
      "text/plain": [
       "[2, 3, 5, 7, 11, 13, 17, 19, 23, 29]\n",
       "Time: CPU 0.00 s, Wall: 0.00 s"
      ]
     },
     "execution_count": 48,
     "metadata": {},
     "output_type": "execute_result"
    }
   ],
   "source": [
    "time eratosthenes(30)"
   ]
  },
  {
   "cell_type": "code",
   "execution_count": 19,
   "metadata": {},
   "outputs": [
    {
     "data": {
      "text/plain": []
     },
     "execution_count": 19,
     "metadata": {},
     "output_type": "execute_result"
    }
   ],
   "source": [
    "# División Entera"
   ]
  },
  {
   "cell_type": "code",
   "execution_count": 20,
   "metadata": {},
   "outputs": [
    {
     "data": {
      "text/plain": []
     },
     "execution_count": 20,
     "metadata": {},
     "output_type": "execute_result"
    }
   ],
   "source": [
    "\"\"\"\n",
    "Dado un número entero a y un número entero no nulo b, podemos encontrar dos números enteros, q y r, únicos cumpliendo las siguientes propiedades:\n",
    "    a = b * q + r\n",
    "    0 <= r < |b|\n",
    "Sage tiene implementada la búsqueda de estos enteros q y r.\n",
    "\"\"\""
   ]
  },
  {
   "cell_type": "code",
   "execution_count": 21,
   "metadata": {},
   "outputs": [
    {
     "data": {
      "text/plain": [
       "(4, 3)"
      ]
     },
     "execution_count": 21,
     "metadata": {},
     "output_type": "execute_result"
    }
   ],
   "source": [
    "qr = 23 // 5, 23 % 5   # así se obtiene una pareja con cociente y resto de 23 y 5\n",
    "print qr"
   ]
  },
  {
   "cell_type": "code",
   "execution_count": 22,
   "metadata": {},
   "outputs": [
    {
     "data": {
      "text/plain": [
       "23"
      ]
     },
     "execution_count": 22,
     "metadata": {},
     "output_type": "execute_result"
    }
   ],
   "source": [
    "4*5+3 # comprobación"
   ]
  },
  {
   "cell_type": "code",
   "execution_count": 23,
   "metadata": {},
   "outputs": [
    {
     "data": {
      "text/plain": [
       "(-6, 4)"
      ]
     },
     "execution_count": 23,
     "metadata": {},
     "output_type": "execute_result"
    }
   ],
   "source": [
    "qr = -26 // 5, -26 % 5\n",
    "print qr"
   ]
  },
  {
   "cell_type": "code",
   "execution_count": 24,
   "metadata": {},
   "outputs": [
    {
     "data": {
      "text/plain": [
       "-26"
      ]
     },
     "execution_count": 24,
     "metadata": {},
     "output_type": "execute_result"
    }
   ],
   "source": [
    "-6 * 5 + 4"
   ]
  },
  {
   "cell_type": "code",
   "execution_count": 25,
   "metadata": {},
   "outputs": [
    {
     "data": {
      "text/plain": [
       "(-6, -4)"
      ]
     },
     "execution_count": 25,
     "metadata": {},
     "output_type": "execute_result"
    }
   ],
   "source": [
    "qr = 26 // -5, 26 % -5  # aquí no obtiene 0 <= r\n",
    "print qr"
   ]
  },
  {
   "cell_type": "code",
   "execution_count": 27,
   "metadata": {},
   "outputs": [
    {
     "data": {
      "text/plain": [
       "26\n",
       "26\n",
       "26"
      ]
     },
     "execution_count": 27,
     "metadata": {},
     "output_type": "execute_result"
    }
   ],
   "source": [
    "(-5) * (-6) + (-4); (-5) * (-6) -5 + 5 -4; (-5) * (-6 +1) +1"
   ]
  },
  {
   "cell_type": "code",
   "execution_count": 26,
   "metadata": {},
   "outputs": [
    {
     "data": {
      "text/plain": [
       "(5, -1)"
      ]
     },
     "execution_count": 26,
     "metadata": {},
     "output_type": "execute_result"
    }
   ],
   "source": [
    "qr = -26 // -5, -26 % -5  # aquí no obtiene 0 <= r\n",
    "print qr"
   ]
  },
  {
   "cell_type": "code",
   "execution_count": 28,
   "metadata": {},
   "outputs": [
    {
     "data": {
      "text/plain": [
       "-26\n",
       "-26\n",
       "-26"
      ]
     },
     "execution_count": 28,
     "metadata": {},
     "output_type": "execute_result"
    }
   ],
   "source": [
    "5 * (-5) + (-1); 5 * (-5) -5 + 5 - 1; 6 * (-5) + 4"
   ]
  },
  {
   "cell_type": "code",
   "execution_count": 29,
   "metadata": {},
   "outputs": [
    {
     "data": {
      "text/plain": [
       "-1\n",
       "4"
      ]
     },
     "execution_count": 29,
     "metadata": {},
     "output_type": "execute_result"
    }
   ],
   "source": [
    "-26.mod(5); (-26).mod(5)"
   ]
  },
  {
   "cell_type": "code",
   "execution_count": 30,
   "metadata": {},
   "outputs": [
    {
     "data": {
      "text/plain": [
       "4"
      ]
     },
     "execution_count": 30,
     "metadata": {},
     "output_type": "execute_result"
    }
   ],
   "source": [
    "-1+5"
   ]
  },
  {
   "cell_type": "code",
   "execution_count": 31,
   "metadata": {},
   "outputs": [
    {
     "data": {
      "text/plain": [
       "4294967297"
      ]
     },
     "execution_count": 31,
     "metadata": {},
     "output_type": "execute_result"
    }
   ],
   "source": [
    "2^(2^5) + 1   # el quinto número de Fermat es 4294967297 ... y pensaba que era primo"
   ]
  },
  {
   "cell_type": "code",
   "execution_count": 32,
   "metadata": {},
   "outputs": [
    {
     "data": {
      "text/plain": [
       "0"
      ]
     },
     "execution_count": 32,
     "metadata": {},
     "output_type": "execute_result"
    }
   ],
   "source": [
    "4294967297 % 641  # por tanto no es primo, como demostró Euler"
   ]
  },
  {
   "cell_type": "code",
   "execution_count": 153,
   "metadata": {},
   "outputs": [
    {
     "data": {
      "text/plain": [
       "(6, 1)"
      ]
     },
     "execution_count": 153,
     "metadata": {},
     "output_type": "execute_result"
    }
   ],
   "source": [
    "divmod(25,4)"
   ]
  },
  {
   "cell_type": "code",
   "execution_count": 152,
   "metadata": {},
   "outputs": [
    {
     "data": {
      "text/plain": [
       "(6, 1)"
      ]
     },
     "execution_count": 152,
     "metadata": {},
     "output_type": "execute_result"
    }
   ],
   "source": [
    "c, r = divmod(25,4); c, r"
   ]
  },
  {
   "cell_type": "code",
   "execution_count": 33,
   "metadata": {},
   "outputs": [
    {
     "data": {
      "text/plain": []
     },
     "execution_count": 33,
     "metadata": {},
     "output_type": "execute_result"
    }
   ],
   "source": [
    "# Máximo común divisor y mínimo común múltiplo"
   ]
  },
  {
   "cell_type": "code",
   "execution_count": 34,
   "metadata": {},
   "outputs": [
    {
     "data": {
      "text/plain": [
       "6"
      ]
     },
     "execution_count": 34,
     "metadata": {},
     "output_type": "execute_result"
    }
   ],
   "source": [
    "78.gcd(24)"
   ]
  },
  {
   "cell_type": "code",
   "execution_count": 35,
   "metadata": {},
   "outputs": [
    {
     "data": {
      "text/plain": [
       "312"
      ]
     },
     "execution_count": 35,
     "metadata": {},
     "output_type": "execute_result"
    }
   ],
   "source": [
    "78.lcm(24)"
   ]
  },
  {
   "cell_type": "code",
   "execution_count": 36,
   "metadata": {},
   "outputs": [
    {
     "data": {
      "text/plain": [
       "1872\n",
       "1872"
      ]
     },
     "execution_count": 36,
     "metadata": {},
     "output_type": "execute_result"
    }
   ],
   "source": [
    "78 * 24; 6 * 312 # lcm(m,n) = m * n / gcd(m,n)"
   ]
  },
  {
   "cell_type": "code",
   "execution_count": 37,
   "metadata": {},
   "outputs": [
    {
     "data": {
      "text/plain": [
       "True"
      ]
     },
     "execution_count": 37,
     "metadata": {},
     "output_type": "execute_result"
    }
   ],
   "source": [
    "312 == (78 * 24) // 6"
   ]
  },
  {
   "cell_type": "code",
   "execution_count": 38,
   "metadata": {},
   "outputs": [
    {
     "data": {
      "text/plain": [
       "(6, 1, -3)"
      ]
     },
     "execution_count": 38,
     "metadata": {},
     "output_type": "execute_result"
    }
   ],
   "source": [
    "xgcd(78,24)   # máximo común divisor extendido; da los coeficientes de Bezout"
   ]
  },
  {
   "cell_type": "code",
   "execution_count": 40,
   "metadata": {},
   "outputs": [
    {
     "data": {
      "text/plain": [
       "6"
      ]
     },
     "execution_count": 40,
     "metadata": {},
     "output_type": "execute_result"
    }
   ],
   "source": [
    "78 * 1 + 24 * (-3)"
   ]
  },
  {
   "cell_type": "code",
   "execution_count": 43,
   "metadata": {},
   "outputs": [
    {
     "data": {
      "text/plain": [
       "6 1 -3"
      ]
     },
     "execution_count": 43,
     "metadata": {},
     "output_type": "execute_result"
    }
   ],
   "source": [
    "d, u, v = xgcd(78,24)\n",
    "print d, u, v"
   ]
  },
  {
   "cell_type": "code",
   "execution_count": 44,
   "metadata": {},
   "outputs": [
    {
     "data": {
      "text/plain": [
       "2"
      ]
     },
     "execution_count": 44,
     "metadata": {},
     "output_type": "execute_result"
    }
   ],
   "source": [
    "inverse_mod(3,5)"
   ]
  },
  {
   "cell_type": "code",
   "execution_count": 45,
   "metadata": {},
   "outputs": [
    {
     "data": {
      "text/plain": [
       "1"
      ]
     },
     "execution_count": 45,
     "metadata": {},
     "output_type": "execute_result"
    }
   ],
   "source": [
    "(3 * 2) % 5"
   ]
  },
  {
   "cell_type": "code",
   "execution_count": 41,
   "metadata": {},
   "outputs": [
    {
     "data": {
      "text/plain": []
     },
     "execution_count": 41,
     "metadata": {},
     "output_type": "execute_result"
    }
   ],
   "source": [
    "# Aritmética modular"
   ]
  },
  {
   "cell_type": "code",
   "execution_count": 51,
   "metadata": {},
   "outputs": [
    {
     "data": {
      "text/plain": []
     },
     "execution_count": 51,
     "metadata": {},
     "output_type": "execute_result"
    }
   ],
   "source": [
    "def letraDelDNI(n):             # esta función calcula la letra del DNI español\n",
    "    letras = \"TRWAGMYFPDXBNJZSQVHLCKE\"\n",
    "    return letras[n % 23]"
   ]
  },
  {
   "cell_type": "code",
   "execution_count": 52,
   "metadata": {},
   "outputs": [
    {
     "data": {
      "text/plain": [
       "'D'"
      ]
     },
     "execution_count": 52,
     "metadata": {},
     "output_type": "execute_result"
    }
   ],
   "source": [
    "letraDelDNI(24211557)"
   ]
  },
  {
   "cell_type": "code",
   "execution_count": 53,
   "metadata": {},
   "outputs": [
    {
     "data": {
      "text/plain": []
     },
     "execution_count": 53,
     "metadata": {},
     "output_type": "execute_result"
    }
   ],
   "source": [
    "R = IntegerModRing(23)"
   ]
  },
  {
   "cell_type": "code",
   "execution_count": 54,
   "metadata": {},
   "outputs": [
    {
     "data": {
      "text/plain": [
       "Ring of integers modulo 23"
      ]
     },
     "execution_count": 54,
     "metadata": {},
     "output_type": "execute_result"
    }
   ],
   "source": [
    "R"
   ]
  },
  {
   "cell_type": "code",
   "execution_count": 55,
   "metadata": {},
   "outputs": [
    {
     "data": {
      "text/plain": []
     },
     "execution_count": 55,
     "metadata": {},
     "output_type": "execute_result"
    }
   ],
   "source": [
    "a = R(12) # Así se crean los elementos del anillo"
   ]
  },
  {
   "cell_type": "code",
   "execution_count": 56,
   "metadata": {},
   "outputs": [
    {
     "data": {
      "text/plain": [
       "<type 'sage.rings.finite_rings.integer_mod.IntegerMod_int'>"
      ]
     },
     "execution_count": 56,
     "metadata": {},
     "output_type": "execute_result"
    }
   ],
   "source": [
    "type(a)"
   ]
  },
  {
   "cell_type": "code",
   "execution_count": 57,
   "metadata": {},
   "outputs": [
    {
     "data": {
      "text/plain": [
       "Ring of integers modulo 23"
      ]
     },
     "execution_count": 57,
     "metadata": {},
     "output_type": "execute_result"
    }
   ],
   "source": [
    "parent(a)"
   ]
  },
  {
   "cell_type": "code",
   "execution_count": 58,
   "metadata": {},
   "outputs": [
    {
     "data": {
      "text/plain": [
       "Ring of integers modulo 23"
      ]
     },
     "execution_count": 58,
     "metadata": {},
     "output_type": "execute_result"
    }
   ],
   "source": [
    "a.base_ring()"
   ]
  },
  {
   "cell_type": "code",
   "execution_count": 61,
   "metadata": {},
   "outputs": [
    {
     "data": {
      "text/plain": []
     },
     "execution_count": 61,
     "metadata": {},
     "output_type": "execute_result"
    }
   ],
   "source": [
    "b = R(14)"
   ]
  },
  {
   "cell_type": "code",
   "execution_count": 59,
   "metadata": {},
   "outputs": [
    {
     "data": {
      "text/plain": [
       "(3, 21, 7, 5, 14)"
      ]
     },
     "execution_count": 59,
     "metadata": {},
     "output_type": "execute_result"
    }
   ],
   "source": [
    "a + b, a - b, a * b, b^-1, a / b"
   ]
  },
  {
   "cell_type": "code",
   "execution_count": 60,
   "metadata": {},
   "outputs": [
    {
     "data": {
      "text/plain": [
       "(3, 21, 7, 1, 14)"
      ]
     },
     "execution_count": 60,
     "metadata": {},
     "output_type": "execute_result"
    }
   ],
   "source": [
    "(12 + 14) % 23, (12 - 14) % 23, 12*14 % 23, 14*5 % 23, 12*5 % 23"
   ]
  },
  {
   "cell_type": "code",
   "execution_count": 63,
   "metadata": {},
   "outputs": [
    {
     "data": {
      "text/plain": [
       "2"
      ]
     },
     "execution_count": 63,
     "metadata": {},
     "output_type": "execute_result"
    }
   ],
   "source": [
    "a^(-1) # el inverso de a, que existe en este caso"
   ]
  },
  {
   "cell_type": "code",
   "execution_count": 64,
   "metadata": {},
   "outputs": [
    {
     "data": {
      "text/plain": [
       "1"
      ]
     },
     "execution_count": 64,
     "metadata": {},
     "output_type": "execute_result"
    }
   ],
   "source": [
    "a * R(2)"
   ]
  },
  {
   "cell_type": "code",
   "execution_count": 65,
   "metadata": {},
   "outputs": [
    {
     "data": {
      "text/plain": [
       "6"
      ]
     },
     "execution_count": 65,
     "metadata": {},
     "output_type": "execute_result"
    }
   ],
   "source": [
    "a^2345"
   ]
  },
  {
   "cell_type": "code",
   "execution_count": 66,
   "metadata": {},
   "outputs": [
    {
     "data": {
      "text/plain": []
     },
     "execution_count": 66,
     "metadata": {},
     "output_type": "execute_result"
    }
   ],
   "source": [
    "\"\"\"\n",
    "Si el anillo no tiene módulo primo, existen elementos invertibles (los primos con el módulo) y\n",
    "también elementos que no tienen inverso. Para averiguarlo tenemos el método is.unit()\n",
    "\"\"\""
   ]
  },
  {
   "cell_type": "code",
   "execution_count": 67,
   "metadata": {},
   "outputs": [
    {
     "data": {
      "text/plain": []
     },
     "execution_count": 67,
     "metadata": {},
     "output_type": "execute_result"
    }
   ],
   "source": [
    "R = IntegerModRing(88)"
   ]
  },
  {
   "cell_type": "code",
   "execution_count": 68,
   "metadata": {},
   "outputs": [
    {
     "data": {
      "text/plain": []
     },
     "execution_count": 68,
     "metadata": {},
     "output_type": "execute_result"
    }
   ],
   "source": [
    "a = R(4)"
   ]
  },
  {
   "cell_type": "code",
   "execution_count": 69,
   "metadata": {},
   "outputs": [
    {
     "data": {
      "text/plain": [
       "False"
      ]
     },
     "execution_count": 69,
     "metadata": {},
     "output_type": "execute_result"
    }
   ],
   "source": [
    "a.is_unit()"
   ]
  },
  {
   "cell_type": "code",
   "execution_count": 70,
   "metadata": {},
   "outputs": [
    {
     "data": {
      "text/plain": [
       "True"
      ]
     },
     "execution_count": 70,
     "metadata": {},
     "output_type": "execute_result"
    }
   ],
   "source": [
    "R(5).is_unit()"
   ]
  },
  {
   "cell_type": "code",
   "execution_count": 73,
   "metadata": {},
   "outputs": [
    {
     "data": {
      "text/plain": []
     },
     "execution_count": 73,
     "metadata": {},
     "output_type": "execute_result"
    }
   ],
   "source": [
    "\"\"\"\n",
    "Algunos elementos del anillo son el cuadrado de otro u otros. A saberlo nos ayuda el método\n",
    "is.square()\n",
    "\"\"\""
   ]
  },
  {
   "cell_type": "code",
   "execution_count": 71,
   "metadata": {},
   "outputs": [
    {
     "data": {
      "text/plain": [
       "True"
      ]
     },
     "execution_count": 71,
     "metadata": {},
     "output_type": "execute_result"
    }
   ],
   "source": [
    "a.is_square()"
   ]
  },
  {
   "cell_type": "code",
   "execution_count": 72,
   "metadata": {},
   "outputs": [
    {
     "data": {
      "text/plain": [
       "2"
      ]
     },
     "execution_count": 72,
     "metadata": {},
     "output_type": "execute_result"
    }
   ],
   "source": [
    "a.sqrt()        # Una raíz cuadrada"
   ]
  },
  {
   "cell_type": "code",
   "execution_count": 75,
   "metadata": {},
   "outputs": [
    {
     "data": {
      "text/plain": [
       "[2, 42, 46, 86]"
      ]
     },
     "execution_count": 75,
     "metadata": {},
     "output_type": "execute_result"
    }
   ],
   "source": [
    "a.sqrt(all = True) # Todas las raíces cuadradas"
   ]
  },
  {
   "cell_type": "code",
   "execution_count": 76,
   "metadata": {},
   "outputs": [
    {
     "data": {
      "text/plain": [
       "(4, 4, 4, 4)"
      ]
     },
     "execution_count": 76,
     "metadata": {},
     "output_type": "execute_result"
    }
   ],
   "source": [
    "R(2)^2, R(42)^2, R(46)^2, R(86)^2"
   ]
  },
  {
   "cell_type": "code",
   "execution_count": 3,
   "metadata": {},
   "outputs": [],
   "source": [
    "R = IntegerModRing(97)"
   ]
  },
  {
   "cell_type": "code",
   "execution_count": 4,
   "metadata": {},
   "outputs": [
    {
     "name": "stdout",
     "output_type": "stream",
     "text": [
      "33\n"
     ]
    }
   ],
   "source": [
    "a = R(2) / R(3)\n",
    "print a"
   ]
  },
  {
   "cell_type": "code",
   "execution_count": 79,
   "metadata": {},
   "outputs": [
    {
     "data": {
      "text/plain": [
       "2/3"
      ]
     },
     "execution_count": 79,
     "metadata": {},
     "output_type": "execute_result"
    }
   ],
   "source": [
    "a.rational_reconstruction()"
   ]
  },
  {
   "cell_type": "code",
   "execution_count": 80,
   "metadata": {},
   "outputs": [
    {
     "data": {
      "text/plain": []
     },
     "execution_count": 80,
     "metadata": {},
     "output_type": "execute_result"
    }
   ],
   "source": [
    "b = R(47)"
   ]
  },
  {
   "cell_type": "code",
   "execution_count": 81,
   "metadata": {},
   "outputs": [
    {
     "data": {
      "text/plain": [
       "50"
      ]
     },
     "execution_count": 81,
     "metadata": {},
     "output_type": "execute_result"
    }
   ],
   "source": [
    "b^20052005"
   ]
  },
  {
   "cell_type": "code",
   "execution_count": 82,
   "metadata": {},
   "outputs": [
    {
     "data": {
      "text/plain": [
       "97"
      ]
     },
     "execution_count": 82,
     "metadata": {},
     "output_type": "execute_result"
    }
   ],
   "source": [
    "b.modulus()"
   ]
  },
  {
   "cell_type": "code",
   "execution_count": 83,
   "metadata": {},
   "outputs": [
    {
     "data": {
      "text/plain": []
     },
     "execution_count": 83,
     "metadata": {},
     "output_type": "execute_result"
    }
   ],
   "source": [
    "# Más sobre el máximo común divisor y el mínimo común múltiplo"
   ]
  },
  {
   "cell_type": "code",
   "execution_count": 84,
   "metadata": {},
   "outputs": [
    {
     "data": {
      "text/plain": [
       "Traceback (most recent call last):\n",
       "  File \"<stdin>\", line 1, in <module>\n",
       "  File \"_sage_input_4.py\", line 10, in <module>\n",
       "    exec compile(u'open(\"___code___.py\",\"w\").write(\"# -*- coding: utf-8 -*-\\\\n\" + _support_.preparse_worksheet_cell(base64.b64decode(\"Z2NkKDYsMTAsMTQp\"),globals())+\"\\\\n\"); execfile(os.path.abspath(\"___code___.py\"))' + '\\n', '', 'single')\n",
       "  File \"\", line 1, in <module>\n",
       "    \n",
       "  File \"/tmp/tmp2QHJ20/___code___.py\", line 3, in <module>\n",
       "    exec compile(u'gcd(_sage_const_6 ,_sage_const_10 ,_sage_const_14 )' + '\\n', '', 'single')\n",
       "  File \"\", line 1, in <module>\n",
       "    \n",
       "TypeError: gcd() takes at most 2 arguments (3 given)"
      ]
     },
     "execution_count": 84,
     "metadata": {},
     "output_type": "execute_result"
    }
   ],
   "source": [
    "gcd(6,10,14)  # no calcula el máximo común divisor de más de dos"
   ]
  },
  {
   "cell_type": "code",
   "execution_count": 85,
   "metadata": {},
   "outputs": [
    {
     "data": {
      "text/plain": [
       "2"
      ]
     },
     "execution_count": 85,
     "metadata": {},
     "output_type": "execute_result"
    }
   ],
   "source": [
    "gcd([6,10,14]) # pero si el argumento es una lista, funciona."
   ]
  },
  {
   "cell_type": "code",
   "execution_count": 86,
   "metadata": {},
   "outputs": [
    {
     "data": {
      "text/plain": [
       "0"
      ]
     },
     "execution_count": 86,
     "metadata": {},
     "output_type": "execute_result"
    }
   ],
   "source": [
    "gcd([]) # sin comentarios"
   ]
  },
  {
   "cell_type": "code",
   "execution_count": 87,
   "metadata": {},
   "outputs": [
    {
     "data": {
      "text/plain": [
       "<html><!--notruncate-->\n",
       "\n",
       "<div class=\"docstring\">\n",
       "    \n",
       "  <p><strong>File:</strong> /opt/sage-5.2-linux-64bit-ubuntu_12.04_lts-x86_64-Linux/local/lib/python2.7/site-packages/sage/rings/arith.py</p>\n",
       "<p><strong>Type:</strong> <type ‘function’></p>\n",
       "<p><strong>Definition:</strong> LCM(a, b=None)</p>\n",
       "<p><strong>Docstring:</strong></p>\n",
       "<blockquote>\n",
       "<div><p>The least common multiple of a and b, or if a is a list and b is\n",
       "omitted the least common multiple of all elements of a.</p>\n",
       "<p>Note that LCM is an alias for lcm.</p>\n",
       "<p>INPUT:</p>\n",
       "<ul class=\"simple\">\n",
       "<li><tt class=\"docutils literal\"><span class=\"pre\">a,b</span></tt> - two elements of a ring with lcm or</li>\n",
       "<li><tt class=\"docutils literal\"><span class=\"pre\">a</span></tt> - a list or tuple of elements of a ring with\n",
       "lcm</li>\n",
       "</ul>\n",
       "<p>OUTPUT:</p>\n",
       "<p>First, the given elements are coerced into a common parent. Then,\n",
       "their least common multiple <em>in that parent</em> is returned.</p>\n",
       "<p>EXAMPLES:</p>\n",
       "<div class=\"highlight-python\"><div class=\"highlight\"><pre class=\"literal-block\"><span class=\"gp\">sage: </span><span class=\"n\">lcm</span><span class=\"p\">(</span><span class=\"mi\">97</span><span class=\"p\">,</span><span class=\"mi\">100</span><span class=\"p\">)</span>\n",
       "<span class=\"go\">9700</span>\n",
       "<span class=\"gp\">sage: </span><span class=\"n\">LCM</span><span class=\"p\">(</span><span class=\"mi\">97</span><span class=\"p\">,</span><span class=\"mi\">100</span><span class=\"p\">)</span>\n",
       "<span class=\"go\">9700</span>\n",
       "<span class=\"gp\">sage: </span><span class=\"n\">LCM</span><span class=\"p\">(</span><span class=\"mi\">0</span><span class=\"p\">,</span><span class=\"mi\">2</span><span class=\"p\">)</span>\n",
       "<span class=\"go\">0</span>\n",
       "<span class=\"gp\">sage: </span><span class=\"n\">LCM</span><span class=\"p\">(</span><span class=\"o\">-</span><span class=\"mi\">3</span><span class=\"p\">,</span><span class=\"o\">-</span><span class=\"mi\">5</span><span class=\"p\">)</span>\n",
       "<span class=\"go\">15</span>\n",
       "<span class=\"gp\">sage: </span><span class=\"n\">LCM</span><span class=\"p\">([</span><span class=\"mi\">1</span><span class=\"p\">,</span><span class=\"mi\">2</span><span class=\"p\">,</span><span class=\"mi\">3</span><span class=\"p\">,</span><span class=\"mi\">4</span><span class=\"p\">,</span><span class=\"mi\">5</span><span class=\"p\">])</span>\n",
       "<span class=\"go\">60</span>\n",
       "<span class=\"gp\">sage: </span><span class=\"n\">v</span> <span class=\"o\">=</span> <span class=\"n\">LCM</span><span class=\"p\">(</span><span class=\"nb\">range</span><span class=\"p\">(</span><span class=\"mi\">1</span><span class=\"p\">,</span><span class=\"mi\">10000</span><span class=\"p\">))</span>   <span class=\"c\"># *very* fast!</span>\n",
       "<span class=\"gp\">sage: </span><span class=\"nb\">len</span><span class=\"p\">(</span><span class=\"nb\">str</span><span class=\"p\">(</span><span class=\"n\">v</span><span class=\"p\">))</span>\n",
       "<span class=\"go\">4349</span>\n",
       "</pre></div>\n",
       "</div>\n",
       "<p>TESTS:</p>\n",
       "<p>The following tests against a bug that was fixed in trac\n",
       "ticket #10771:</p>\n",
       "<div class=\"highlight-python\"><div class=\"highlight\"><pre class=\"literal-block\"><span class=\"gp\">sage: </span><span class=\"n\">lcm</span><span class=\"p\">(</span><span class=\"mi\">4</span><span class=\"o\">/</span><span class=\"mi\">1</span><span class=\"p\">,</span><span class=\"mi\">2</span><span class=\"p\">)</span>\n",
       "<span class=\"go\">4</span>\n",
       "</pre></div>\n",
       "</div>\n",
       "<p>The following shows that indeed coercion takes place before\n",
       "computing the least common multiple:</p>\n",
       "<div class=\"highlight-python\"><div class=\"highlight\"><pre class=\"literal-block\"><span class=\"gp\">sage: </span><span class=\"n\">R</span><span class=\"o\">.<</span><span class=\"n\">x</span><span class=\"o\">>=</span><span class=\"n\">QQ</span><span class=\"p\">[]</span>\n",
       "<span class=\"gp\">sage: </span><span class=\"n\">S</span><span class=\"o\">.<</span><span class=\"n\">x</span><span class=\"o\">>=</span><span class=\"n\">ZZ</span><span class=\"p\">[]</span>\n",
       "<span class=\"gp\">sage: </span><span class=\"n\">p</span> <span class=\"o\">=</span> <span class=\"n\">S</span><span class=\"o\">.</span><span class=\"n\">random_element</span><span class=\"p\">()</span>\n",
       "<span class=\"gp\">sage: </span><span class=\"n\">q</span> <span class=\"o\">=</span> <span class=\"n\">R</span><span class=\"o\">.</span><span class=\"n\">random_element</span><span class=\"p\">()</span>\n",
       "<span class=\"gp\">sage: </span><span class=\"n\">parent</span><span class=\"p\">(</span><span class=\"n\">lcm</span><span class=\"p\">([</span><span class=\"mi\">1</span><span class=\"o\">/</span><span class=\"n\">p</span><span class=\"p\">,</span><span class=\"n\">q</span><span class=\"p\">]))</span>\n",
       "<span class=\"go\">Fraction Field of Univariate Polynomial Ring in x over Rational Field</span>\n",
       "</pre></div>\n",
       "</div>\n",
       "<p>Make sure we try QQ and not merely ZZ (<a class=\"reference external\" href=\"http://trac.sagemath.org/13014\">trac ticket #13014</a>):</p>\n",
       "<div class=\"highlight-python\"><div class=\"highlight\"><pre class=\"literal-block\"><span class=\"gp\">sage: </span><span class=\"nb\">bool</span><span class=\"p\">(</span><span class=\"n\">lcm</span><span class=\"p\">(</span><span class=\"mi\">2</span><span class=\"o\">/</span><span class=\"mi\">5</span><span class=\"p\">,</span> <span class=\"mi\">3</span><span class=\"o\">/</span><span class=\"mi\">7</span><span class=\"p\">)</span> <span class=\"o\">==</span> <span class=\"n\">lcm</span><span class=\"p\">(</span><span class=\"n\">SR</span><span class=\"p\">(</span><span class=\"mi\">2</span><span class=\"o\">/</span><span class=\"mi\">5</span><span class=\"p\">),</span> <span class=\"n\">SR</span><span class=\"p\">(</span><span class=\"mi\">3</span><span class=\"o\">/</span><span class=\"mi\">7</span><span class=\"p\">)))</span>\n",
       "<span class=\"go\">True</span>\n",
       "</pre></div>\n",
       "</div>\n",
       "<p>Make sure that the lcm of Expressions stays symbolic:</p>\n",
       "<div class=\"highlight-python\"><div class=\"highlight\"><pre class=\"literal-block\"><span class=\"gp\">sage: </span><span class=\"n\">parent</span><span class=\"p\">(</span><span class=\"n\">lcm</span><span class=\"p\">(</span><span class=\"mi\">2</span><span class=\"p\">,</span> <span class=\"mi\">4</span><span class=\"p\">))</span>\n",
       "<span class=\"go\">Integer Ring</span>\n",
       "<span class=\"gp\">sage: </span><span class=\"n\">parent</span><span class=\"p\">(</span><span class=\"n\">lcm</span><span class=\"p\">(</span><span class=\"n\">SR</span><span class=\"p\">(</span><span class=\"mi\">2</span><span class=\"p\">),</span> <span class=\"mi\">4</span><span class=\"p\">))</span>\n",
       "<span class=\"go\">Symbolic Ring</span>\n",
       "<span class=\"gp\">sage: </span><span class=\"n\">parent</span><span class=\"p\">(</span><span class=\"n\">lcm</span><span class=\"p\">(</span><span class=\"mi\">2</span><span class=\"p\">,</span> <span class=\"n\">SR</span><span class=\"p\">(</span><span class=\"mi\">4</span><span class=\"p\">)))</span>\n",
       "<span class=\"go\">Symbolic Ring</span>\n",
       "<span class=\"gp\">sage: </span><span class=\"n\">parent</span><span class=\"p\">(</span><span class=\"n\">lcm</span><span class=\"p\">(</span><span class=\"n\">SR</span><span class=\"p\">(</span><span class=\"mi\">2</span><span class=\"p\">),</span> <span class=\"n\">SR</span><span class=\"p\">(</span><span class=\"mi\">4</span><span class=\"p\">)))</span>\n",
       "<span class=\"go\">Symbolic Ring</span>\n",
       "</pre></div>\n",
       "</div>\n",
       "<p>Verify that objects without lcm methods but which can’t be\n",
       "coerced to ZZ or QQ raise an error:</p>\n",
       "<div class=\"highlight-python\"><div class=\"highlight\"><pre class=\"literal-block\"><span class=\"gp\">sage: </span><span class=\"n\">F</span><span class=\"o\">.<</span><span class=\"n\">a</span><span class=\"p\">,</span><span class=\"n\">b</span><span class=\"o\">></span> <span class=\"o\">=</span> <span class=\"n\">FreeMonoid</span><span class=\"p\">(</span><span class=\"mi\">2</span><span class=\"p\">)</span>\n",
       "<span class=\"gp\">sage: </span><span class=\"n\">lcm</span><span class=\"p\">(</span><span class=\"n\">a</span><span class=\"p\">,</span><span class=\"n\">b</span><span class=\"p\">)</span>\n",
       "<span class=\"gt\">Traceback (most recent call last):</span>\n",
       "<span class=\"c\">...</span>\n",
       "<span class=\"nc\">TypeError</span>: <span class=\"n-Identifier\">unable to find lcm</span>\n",
       "</pre></div>\n",
       "</div>\n",
       "</div></blockquote>\n",
       "\n",
       "\n",
       "</div>\n",
       "</html>"
      ]
     },
     "execution_count": 87,
     "metadata": {},
     "output_type": "execute_result"
    }
   ],
   "source": [
    "LCM?"
   ]
  },
  {
   "cell_type": "code",
   "execution_count": 88,
   "metadata": {},
   "outputs": [
    {
     "data": {
      "text/plain": [
       "<html><!--notruncate-->\n",
       "\n",
       "<div class=\"docstring\">\n",
       "    \n",
       "  <p><strong>File:</strong> /opt/sage-5.2-linux-64bit-ubuntu_12.04_lts-x86_64-Linux/local/lib/python2.7/site-packages/sage/rings/arith.py</p>\n",
       "<p><strong>Type:</strong> <type ‘function’></p>\n",
       "<p><strong>Definition:</strong> lcm(a, b=None)</p>\n",
       "<p><strong>Docstring:</strong></p>\n",
       "<blockquote>\n",
       "<div><p>The least common multiple of a and b, or if a is a list and b is\n",
       "omitted the least common multiple of all elements of a.</p>\n",
       "<p>Note that LCM is an alias for lcm.</p>\n",
       "<p>INPUT:</p>\n",
       "<ul class=\"simple\">\n",
       "<li><tt class=\"docutils literal\"><span class=\"pre\">a,b</span></tt> - two elements of a ring with lcm or</li>\n",
       "<li><tt class=\"docutils literal\"><span class=\"pre\">a</span></tt> - a list or tuple of elements of a ring with\n",
       "lcm</li>\n",
       "</ul>\n",
       "<p>OUTPUT:</p>\n",
       "<p>First, the given elements are coerced into a common parent. Then,\n",
       "their least common multiple <em>in that parent</em> is returned.</p>\n",
       "<p>EXAMPLES:</p>\n",
       "<div class=\"highlight-python\"><div class=\"highlight\"><pre class=\"literal-block\"><span class=\"gp\">sage: </span><span class=\"n\">lcm</span><span class=\"p\">(</span><span class=\"mi\">97</span><span class=\"p\">,</span><span class=\"mi\">100</span><span class=\"p\">)</span>\n",
       "<span class=\"go\">9700</span>\n",
       "<span class=\"gp\">sage: </span><span class=\"n\">LCM</span><span class=\"p\">(</span><span class=\"mi\">97</span><span class=\"p\">,</span><span class=\"mi\">100</span><span class=\"p\">)</span>\n",
       "<span class=\"go\">9700</span>\n",
       "<span class=\"gp\">sage: </span><span class=\"n\">LCM</span><span class=\"p\">(</span><span class=\"mi\">0</span><span class=\"p\">,</span><span class=\"mi\">2</span><span class=\"p\">)</span>\n",
       "<span class=\"go\">0</span>\n",
       "<span class=\"gp\">sage: </span><span class=\"n\">LCM</span><span class=\"p\">(</span><span class=\"o\">-</span><span class=\"mi\">3</span><span class=\"p\">,</span><span class=\"o\">-</span><span class=\"mi\">5</span><span class=\"p\">)</span>\n",
       "<span class=\"go\">15</span>\n",
       "<span class=\"gp\">sage: </span><span class=\"n\">LCM</span><span class=\"p\">([</span><span class=\"mi\">1</span><span class=\"p\">,</span><span class=\"mi\">2</span><span class=\"p\">,</span><span class=\"mi\">3</span><span class=\"p\">,</span><span class=\"mi\">4</span><span class=\"p\">,</span><span class=\"mi\">5</span><span class=\"p\">])</span>\n",
       "<span class=\"go\">60</span>\n",
       "<span class=\"gp\">sage: </span><span class=\"n\">v</span> <span class=\"o\">=</span> <span class=\"n\">LCM</span><span class=\"p\">(</span><span class=\"nb\">range</span><span class=\"p\">(</span><span class=\"mi\">1</span><span class=\"p\">,</span><span class=\"mi\">10000</span><span class=\"p\">))</span>   <span class=\"c\"># *very* fast!</span>\n",
       "<span class=\"gp\">sage: </span><span class=\"nb\">len</span><span class=\"p\">(</span><span class=\"nb\">str</span><span class=\"p\">(</span><span class=\"n\">v</span><span class=\"p\">))</span>\n",
       "<span class=\"go\">4349</span>\n",
       "</pre></div>\n",
       "</div>\n",
       "<p>TESTS:</p>\n",
       "<p>The following tests against a bug that was fixed in trac\n",
       "ticket #10771:</p>\n",
       "<div class=\"highlight-python\"><div class=\"highlight\"><pre class=\"literal-block\"><span class=\"gp\">sage: </span><span class=\"n\">lcm</span><span class=\"p\">(</span><span class=\"mi\">4</span><span class=\"o\">/</span><span class=\"mi\">1</span><span class=\"p\">,</span><span class=\"mi\">2</span><span class=\"p\">)</span>\n",
       "<span class=\"go\">4</span>\n",
       "</pre></div>\n",
       "</div>\n",
       "<p>The following shows that indeed coercion takes place before\n",
       "computing the least common multiple:</p>\n",
       "<div class=\"highlight-python\"><div class=\"highlight\"><pre class=\"literal-block\"><span class=\"gp\">sage: </span><span class=\"n\">R</span><span class=\"o\">.<</span><span class=\"n\">x</span><span class=\"o\">>=</span><span class=\"n\">QQ</span><span class=\"p\">[]</span>\n",
       "<span class=\"gp\">sage: </span><span class=\"n\">S</span><span class=\"o\">.<</span><span class=\"n\">x</span><span class=\"o\">>=</span><span class=\"n\">ZZ</span><span class=\"p\">[]</span>\n",
       "<span class=\"gp\">sage: </span><span class=\"n\">p</span> <span class=\"o\">=</span> <span class=\"n\">S</span><span class=\"o\">.</span><span class=\"n\">random_element</span><span class=\"p\">()</span>\n",
       "<span class=\"gp\">sage: </span><span class=\"n\">q</span> <span class=\"o\">=</span> <span class=\"n\">R</span><span class=\"o\">.</span><span class=\"n\">random_element</span><span class=\"p\">()</span>\n",
       "<span class=\"gp\">sage: </span><span class=\"n\">parent</span><span class=\"p\">(</span><span class=\"n\">lcm</span><span class=\"p\">([</span><span class=\"mi\">1</span><span class=\"o\">/</span><span class=\"n\">p</span><span class=\"p\">,</span><span class=\"n\">q</span><span class=\"p\">]))</span>\n",
       "<span class=\"go\">Fraction Field of Univariate Polynomial Ring in x over Rational Field</span>\n",
       "</pre></div>\n",
       "</div>\n",
       "<p>Make sure we try QQ and not merely ZZ (<a class=\"reference external\" href=\"http://trac.sagemath.org/13014\">trac ticket #13014</a>):</p>\n",
       "<div class=\"highlight-python\"><div class=\"highlight\"><pre class=\"literal-block\"><span class=\"gp\">sage: </span><span class=\"nb\">bool</span><span class=\"p\">(</span><span class=\"n\">lcm</span><span class=\"p\">(</span><span class=\"mi\">2</span><span class=\"o\">/</span><span class=\"mi\">5</span><span class=\"p\">,</span> <span class=\"mi\">3</span><span class=\"o\">/</span><span class=\"mi\">7</span><span class=\"p\">)</span> <span class=\"o\">==</span> <span class=\"n\">lcm</span><span class=\"p\">(</span><span class=\"n\">SR</span><span class=\"p\">(</span><span class=\"mi\">2</span><span class=\"o\">/</span><span class=\"mi\">5</span><span class=\"p\">),</span> <span class=\"n\">SR</span><span class=\"p\">(</span><span class=\"mi\">3</span><span class=\"o\">/</span><span class=\"mi\">7</span><span class=\"p\">)))</span>\n",
       "<span class=\"go\">True</span>\n",
       "</pre></div>\n",
       "</div>\n",
       "<p>Make sure that the lcm of Expressions stays symbolic:</p>\n",
       "<div class=\"highlight-python\"><div class=\"highlight\"><pre class=\"literal-block\"><span class=\"gp\">sage: </span><span class=\"n\">parent</span><span class=\"p\">(</span><span class=\"n\">lcm</span><span class=\"p\">(</span><span class=\"mi\">2</span><span class=\"p\">,</span> <span class=\"mi\">4</span><span class=\"p\">))</span>\n",
       "<span class=\"go\">Integer Ring</span>\n",
       "<span class=\"gp\">sage: </span><span class=\"n\">parent</span><span class=\"p\">(</span><span class=\"n\">lcm</span><span class=\"p\">(</span><span class=\"n\">SR</span><span class=\"p\">(</span><span class=\"mi\">2</span><span class=\"p\">),</span> <span class=\"mi\">4</span><span class=\"p\">))</span>\n",
       "<span class=\"go\">Symbolic Ring</span>\n",
       "<span class=\"gp\">sage: </span><span class=\"n\">parent</span><span class=\"p\">(</span><span class=\"n\">lcm</span><span class=\"p\">(</span><span class=\"mi\">2</span><span class=\"p\">,</span> <span class=\"n\">SR</span><span class=\"p\">(</span><span class=\"mi\">4</span><span class=\"p\">)))</span>\n",
       "<span class=\"go\">Symbolic Ring</span>\n",
       "<span class=\"gp\">sage: </span><span class=\"n\">parent</span><span class=\"p\">(</span><span class=\"n\">lcm</span><span class=\"p\">(</span><span class=\"n\">SR</span><span class=\"p\">(</span><span class=\"mi\">2</span><span class=\"p\">),</span> <span class=\"n\">SR</span><span class=\"p\">(</span><span class=\"mi\">4</span><span class=\"p\">)))</span>\n",
       "<span class=\"go\">Symbolic Ring</span>\n",
       "</pre></div>\n",
       "</div>\n",
       "<p>Verify that objects without lcm methods but which can’t be\n",
       "coerced to ZZ or QQ raise an error:</p>\n",
       "<div class=\"highlight-python\"><div class=\"highlight\"><pre class=\"literal-block\"><span class=\"gp\">sage: </span><span class=\"n\">F</span><span class=\"o\">.<</span><span class=\"n\">a</span><span class=\"p\">,</span><span class=\"n\">b</span><span class=\"o\">></span> <span class=\"o\">=</span> <span class=\"n\">FreeMonoid</span><span class=\"p\">(</span><span class=\"mi\">2</span><span class=\"p\">)</span>\n",
       "<span class=\"gp\">sage: </span><span class=\"n\">lcm</span><span class=\"p\">(</span><span class=\"n\">a</span><span class=\"p\">,</span><span class=\"n\">b</span><span class=\"p\">)</span>\n",
       "<span class=\"gt\">Traceback (most recent call last):</span>\n",
       "<span class=\"c\">...</span>\n",
       "<span class=\"nc\">TypeError</span>: <span class=\"n-Identifier\">unable to find lcm</span>\n",
       "</pre></div>\n",
       "</div>\n",
       "</div></blockquote>\n",
       "\n",
       "\n",
       "</div>\n",
       "</html>"
      ]
     },
     "execution_count": 88,
     "metadata": {},
     "output_type": "execute_result"
    }
   ],
   "source": [
    "lcm?"
   ]
  },
  {
   "cell_type": "code",
   "execution_count": 89,
   "metadata": {},
   "outputs": [
    {
     "data": {
      "text/plain": [
       "9700"
      ]
     },
     "execution_count": 89,
     "metadata": {},
     "output_type": "execute_result"
    }
   ],
   "source": [
    "lcm(97,100)"
   ]
  },
  {
   "cell_type": "code",
   "execution_count": 92,
   "metadata": {},
   "outputs": [
    {
     "data": {
      "text/plain": [
       "9700"
      ]
     },
     "execution_count": 92,
     "metadata": {},
     "output_type": "execute_result"
    }
   ],
   "source": [
    "LCM(97,100)"
   ]
  },
  {
   "cell_type": "code",
   "execution_count": 93,
   "metadata": {},
   "outputs": [
    {
     "data": {
      "text/plain": [
       "0"
      ]
     },
     "execution_count": 93,
     "metadata": {},
     "output_type": "execute_result"
    }
   ],
   "source": [
    "lcm(0,2)"
   ]
  },
  {
   "cell_type": "code",
   "execution_count": 94,
   "metadata": {},
   "outputs": [
    {
     "data": {
      "text/plain": [
       "15"
      ]
     },
     "execution_count": 94,
     "metadata": {},
     "output_type": "execute_result"
    }
   ],
   "source": [
    "lcm(-3,-5)"
   ]
  },
  {
   "cell_type": "code",
   "execution_count": 95,
   "metadata": {},
   "outputs": [
    {
     "data": {
      "text/plain": [
       "60"
      ]
     },
     "execution_count": 95,
     "metadata": {},
     "output_type": "execute_result"
    }
   ],
   "source": [
    "lcm([1,2,3,4,5])"
   ]
  },
  {
   "cell_type": "code",
   "execution_count": 99,
   "metadata": {},
   "outputs": [
    {
     "data": {
      "text/plain": [
       "60"
      ]
     },
     "execution_count": 99,
     "metadata": {},
     "output_type": "execute_result"
    }
   ],
   "source": [
    "lcm([1,2,3,4,5])"
   ]
  },
  {
   "cell_type": "code",
   "execution_count": 96,
   "metadata": {},
   "outputs": [
    {
     "data": {
      "text/plain": [
       "(60, 12, 5)"
      ]
     },
     "execution_count": 96,
     "metadata": {},
     "output_type": "execute_result"
    }
   ],
   "source": [
    "xlcm(12,20)  # l = [m,n]  y m1 y m2 tales que l = m1*m2, m1|m y m2|n y (m1,m2)=1 todos sin factorización"
   ]
  },
  {
   "cell_type": "code",
   "execution_count": 98,
   "metadata": {},
   "outputs": [
    {
     "data": {
      "text/plain": [
       "<html><!--notruncate-->\n",
       "<div class=\"docstring\"><p><strong>Type:</strong> <type 'type'></p>\n",
       "<p><strong>Definition:</strong> str( [noargspec] )</p>\n",
       "<p><strong>Docstring:</strong></p>\n",
       "<pre>\n",
       "\n",
       "str(object) -> string\n",
       "\n",
       "Return a nice string representation of the object.\n",
       "If the argument is a string, the return value is the same object.</pre></div>\n",
       "</html>"
      ]
     },
     "execution_count": 98,
     "metadata": {},
     "output_type": "execute_result"
    }
   ],
   "source": [
    "str?"
   ]
  },
  {
   "cell_type": "code",
   "execution_count": 102,
   "metadata": {},
   "outputs": [
    {
     "data": {
      "text/plain": [
       "<html><!--notruncate-->\n",
       "\n",
       "<div class=\"docstring\">\n",
       "    \n",
       "  <p><strong>File:</strong> /opt/sage-5.2-linux-64bit-ubuntu_12.04_lts-x86_64-Linux/local/lib/python2.7/site-packages/sage/rings/arith.py</p>\n",
       "<p><strong>Type:</strong> <type ‘function’></p>\n",
       "<p><strong>Definition:</strong> valuation(m, *args1, **args2)</p>\n",
       "<p><strong>Docstring:</strong></p>\n",
       "<blockquote>\n",
       "<div><p>This actually just calls the m.valuation() method.\n",
       "See the documentation of m.valuation() for a more precise description.\n",
       "Use of this function by developers is discouraged. Use m.valuation() instead.</p>\n",
       "<div class=\"admonition note\">\n",
       "<p class=\"first admonition-title\">Note</p>\n",
       "<p class=\"last\">This is not always a valuation in the mathematical sense.\n",
       "For more information see:\n",
       "sage.rings.finite_rings.integer_mod.IntegerMod_int.valuation</p>\n",
       "</div>\n",
       "<p>EXAMPLES:</p>\n",
       "<div class=\"highlight-python\"><div class=\"highlight\"><pre class=\"literal-block\"><span class=\"gp\">sage: </span><span class=\"n\">valuation</span><span class=\"p\">(</span><span class=\"mi\">512</span><span class=\"p\">,</span><span class=\"mi\">2</span><span class=\"p\">)</span>\n",
       "<span class=\"go\">9</span>\n",
       "<span class=\"gp\">sage: </span><span class=\"n\">valuation</span><span class=\"p\">(</span><span class=\"mi\">1</span><span class=\"p\">,</span><span class=\"mi\">2</span><span class=\"p\">)</span>\n",
       "<span class=\"go\">0</span>\n",
       "<span class=\"gp\">sage: </span><span class=\"n\">valuation</span><span class=\"p\">(</span><span class=\"mi\">5</span><span class=\"o\">/</span><span class=\"mi\">9</span><span class=\"p\">,</span> <span class=\"mi\">3</span><span class=\"p\">)</span>\n",
       "<span class=\"go\">-2</span>\n",
       "</pre></div>\n",
       "</div>\n",
       "<p>Valuation of 0 is defined, but valuation with respect to 0 is not:</p>\n",
       "<div class=\"highlight-python\"><div class=\"highlight\"><pre class=\"literal-block\"><span class=\"gp\">sage: </span><span class=\"n\">valuation</span><span class=\"p\">(</span><span class=\"mi\">0</span><span class=\"p\">,</span><span class=\"mi\">7</span><span class=\"p\">)</span>\n",
       "<span class=\"go\">+Infinity</span>\n",
       "<span class=\"gp\">sage: </span><span class=\"n\">valuation</span><span class=\"p\">(</span><span class=\"mi\">3</span><span class=\"p\">,</span><span class=\"mi\">0</span><span class=\"p\">)</span>\n",
       "<span class=\"gt\">Traceback (most recent call last):</span>\n",
       "<span class=\"c\">...</span>\n",
       "<span class=\"nc\">ValueError</span>: <span class=\"n-Identifier\">You can only compute the valuation with respect to a integer larger than 1.</span>\n",
       "</pre></div>\n",
       "</div>\n",
       "<p>Here are some other examples:</p>\n",
       "<div class=\"highlight-python\"><div class=\"highlight\"><pre class=\"literal-block\"><span class=\"gp\">sage: </span><span class=\"n\">valuation</span><span class=\"p\">(</span><span class=\"mi\">100</span><span class=\"p\">,</span><span class=\"mi\">10</span><span class=\"p\">)</span>\n",
       "<span class=\"go\">2</span>\n",
       "<span class=\"gp\">sage: </span><span class=\"n\">valuation</span><span class=\"p\">(</span><span class=\"mi\">200</span><span class=\"p\">,</span><span class=\"mi\">10</span><span class=\"p\">)</span>\n",
       "<span class=\"go\">2</span>\n",
       "<span class=\"gp\">sage: </span><span class=\"n\">valuation</span><span class=\"p\">(</span><span class=\"mi\">243</span><span class=\"p\">,</span><span class=\"mi\">3</span><span class=\"p\">)</span>\n",
       "<span class=\"go\">5</span>\n",
       "<span class=\"gp\">sage: </span><span class=\"n\">valuation</span><span class=\"p\">(</span><span class=\"mi\">243</span><span class=\"o\">*</span><span class=\"mi\">10007</span><span class=\"p\">,</span><span class=\"mi\">3</span><span class=\"p\">)</span>\n",
       "<span class=\"go\">5</span>\n",
       "<span class=\"gp\">sage: </span><span class=\"n\">valuation</span><span class=\"p\">(</span><span class=\"mi\">243</span><span class=\"o\">*</span><span class=\"mi\">10007</span><span class=\"p\">,</span><span class=\"mi\">10007</span><span class=\"p\">)</span>\n",
       "<span class=\"go\">1</span>\n",
       "<span class=\"gp\">sage: </span><span class=\"n\">y</span> <span class=\"o\">=</span> <span class=\"n\">QQ</span><span class=\"p\">[</span><span class=\"s\">'y'</span><span class=\"p\">]</span><span class=\"o\">.</span><span class=\"n\">gen</span><span class=\"p\">()</span>\n",
       "<span class=\"gp\">sage: </span><span class=\"n\">valuation</span><span class=\"p\">(</span><span class=\"n\">y</span><span class=\"o\">^</span><span class=\"mi\">3</span><span class=\"p\">,</span> <span class=\"n\">y</span><span class=\"p\">)</span>\n",
       "<span class=\"go\">3</span>\n",
       "<span class=\"gp\">sage: </span><span class=\"n\">x</span> <span class=\"o\">=</span> <span class=\"n\">QQ</span><span class=\"p\">[[</span><span class=\"s\">'x'</span><span class=\"p\">]]</span><span class=\"o\">.</span><span class=\"n\">gen</span><span class=\"p\">()</span>\n",
       "<span class=\"gp\">sage: </span><span class=\"n\">valuation</span><span class=\"p\">((</span><span class=\"n\">x</span><span class=\"o\">^</span><span class=\"mi\">3</span><span class=\"o\">-</span><span class=\"n\">x</span><span class=\"o\">^</span><span class=\"mi\">2</span><span class=\"p\">)</span><span class=\"o\">/</span><span class=\"p\">(</span><span class=\"n\">x</span><span class=\"o\">-</span><span class=\"mi\">4</span><span class=\"p\">))</span>\n",
       "<span class=\"go\">2</span>\n",
       "<span class=\"gp\">sage: </span><span class=\"n\">valuation</span><span class=\"p\">(</span><span class=\"mi\">4</span><span class=\"n\">r</span><span class=\"p\">,</span><span class=\"mi\">2</span><span class=\"n\">r</span><span class=\"p\">)</span>\n",
       "<span class=\"go\">2</span>\n",
       "<span class=\"gp\">sage: </span><span class=\"n\">valuation</span><span class=\"p\">(</span><span class=\"mi\">1</span><span class=\"n\">r</span><span class=\"p\">,</span><span class=\"mi\">1</span><span class=\"n\">r</span><span class=\"p\">)</span>\n",
       "<span class=\"gt\">Traceback (most recent call last):</span>\n",
       "<span class=\"c\">...</span>\n",
       "<span class=\"nc\">ValueError</span>: <span class=\"n-Identifier\">You can only compute the valuation with respect to a integer larger than 1.</span>\n",
       "</pre></div>\n",
       "</div>\n",
       "</div></blockquote>\n",
       "\n",
       "\n",
       "</div>\n",
       "</html>"
      ]
     },
     "execution_count": 102,
     "metadata": {},
     "output_type": "execute_result"
    }
   ],
   "source": [
    "valuation?"
   ]
  },
  {
   "cell_type": "code",
   "execution_count": 110,
   "metadata": {},
   "outputs": [
    {
     "data": {
      "text/plain": []
     },
     "execution_count": 110,
     "metadata": {},
     "output_type": "execute_result"
    }
   ],
   "source": [
    "# Miscelanea y programas"
   ]
  },
  {
   "cell_type": "code",
   "execution_count": 107,
   "metadata": {},
   "outputs": [
    {
     "data": {
      "text/plain": [
       "3\n",
       "15\n",
       "3^3 * 5"
      ]
     },
     "execution_count": 107,
     "metadata": {},
     "output_type": "execute_result"
    }
   ],
   "source": [
    "squarefree_part(12); squarefree_part(135); factor(135)"
   ]
  },
  {
   "cell_type": "code",
   "execution_count": 109,
   "metadata": {},
   "outputs": [
    {
     "data": {
      "text/plain": [
       "'1001'"
      ]
     },
     "execution_count": 109,
     "metadata": {},
     "output_type": "execute_result"
    }
   ],
   "source": [
    "9.str(2) # m.str(2) expresa m en base 2 pero como string"
   ]
  },
  {
   "cell_type": "code",
   "execution_count": 112,
   "metadata": {},
   "outputs": [
    {
     "data": {
      "text/plain": [
       "'3215'"
      ]
     },
     "execution_count": 112,
     "metadata": {},
     "output_type": "execute_result"
    }
   ],
   "source": [
    "3215.str(10)"
   ]
  },
  {
   "cell_type": "code",
   "execution_count": 113,
   "metadata": {},
   "outputs": [
    {
     "data": {
      "text/plain": []
     },
     "execution_count": 113,
     "metadata": {},
     "output_type": "execute_result"
    }
   ],
   "source": [
    "def digitosChar(n):  # n es un número en base 10, el resultado es una lista de caracteres\n",
    "    s = n.str(10)\n",
    "    r = []\n",
    "    for i in range(len(s)):\n",
    "        r.append(s[i])\n",
    "    return r"
   ]
  },
  {
   "cell_type": "code",
   "execution_count": 114,
   "metadata": {},
   "outputs": [
    {
     "data": {
      "text/plain": [
       "['1', '2', '3', '4']"
      ]
     },
     "execution_count": 114,
     "metadata": {},
     "output_type": "execute_result"
    }
   ],
   "source": [
    "digitosChar(1234)"
   ]
  },
  {
   "cell_type": "code",
   "execution_count": 115,
   "metadata": {},
   "outputs": [
    {
     "data": {
      "text/plain": []
     },
     "execution_count": 115,
     "metadata": {},
     "output_type": "execute_result"
    }
   ],
   "source": [
    "def digitosNum(n):             # n es un número en base 10\n",
    "    signo = sign(n)\n",
    "    m = int(n) * signo\n",
    "    s = []\n",
    "    while m > 9:\n",
    "        s.insert(0,m % 10)\n",
    "        m = m // 10\n",
    "    s.insert(0,m)\n",
    "    return signo, s"
   ]
  },
  {
   "cell_type": "code",
   "execution_count": 116,
   "metadata": {},
   "outputs": [
    {
     "data": {
      "text/plain": [
       "(-1, [1, 2, 3, 4])"
      ]
     },
     "execution_count": 116,
     "metadata": {},
     "output_type": "execute_result"
    }
   ],
   "source": [
    "digitosNum(-1234)"
   ]
  },
  {
   "cell_type": "code",
   "execution_count": 117,
   "metadata": {},
   "outputs": [
    {
     "data": {
      "text/plain": [
       "['-', '1', '2', '3', '4']"
      ]
     },
     "execution_count": 117,
     "metadata": {},
     "output_type": "execute_result"
    }
   ],
   "source": [
    "digitosChar(-1234)"
   ]
  },
  {
   "cell_type": "code",
   "execution_count": 119,
   "metadata": {},
   "outputs": [
    {
     "data": {
      "text/plain": [
       "10011010010"
      ]
     },
     "execution_count": 119,
     "metadata": {},
     "output_type": "execute_result"
    }
   ],
   "source": [
    "int(1234.str(2)) # pero no es un número en base 2 sino en base 10 con dígitos 0 y 1"
   ]
  },
  {
   "cell_type": "code",
   "execution_count": 118,
   "metadata": {},
   "outputs": [
    {
     "data": {
      "text/plain": []
     },
     "execution_count": 118,
     "metadata": {},
     "output_type": "execute_result"
    }
   ],
   "source": [
    "def aBaseDos(n):\n",
    "    \"\"\"\n",
    "    lista los dígitos en base dos de un número en base 10\n",
    "    el menos significativo es el más a la derecha\n",
    "    la salida es un par, con signo de primera y dígitos de segunda\n",
    "    \"\"\"\n",
    "    signo = sign(n)\n",
    "    n = int(n) * signo\n",
    "    s = []\n",
    "    while n > 1:\n",
    "        s.insert(0,n % 2)\n",
    "        n = n // 2\n",
    "    s.insert(0,n)\n",
    "    return signo, s"
   ]
  },
  {
   "cell_type": "code",
   "execution_count": 132,
   "metadata": {},
   "outputs": [
    {
     "data": {
      "text/plain": [
       "(1, [1, 0, 0, 1, 0, 0])"
      ]
     },
     "execution_count": 132,
     "metadata": {},
     "output_type": "execute_result"
    }
   ],
   "source": [
    "aBaseDos(36)"
   ]
  },
  {
   "cell_type": "code",
   "execution_count": 120,
   "metadata": {},
   "outputs": [
    {
     "data": {
      "text/plain": [
       "(-1, [1, 0, 0, 0])"
      ]
     },
     "execution_count": 120,
     "metadata": {},
     "output_type": "execute_result"
    }
   ],
   "source": [
    "par = aBaseDos(-8)\n",
    "print par"
   ]
  },
  {
   "cell_type": "code",
   "execution_count": 121,
   "metadata": {},
   "outputs": [
    {
     "data": {
      "text/plain": [
       "(1, [1, 0, 0, 1, 1, 1, 0, 1, 1])"
      ]
     },
     "execution_count": 121,
     "metadata": {},
     "output_type": "execute_result"
    }
   ],
   "source": [
    "aBaseDos(315)"
   ]
  },
  {
   "cell_type": "code",
   "execution_count": 151,
   "metadata": {},
   "outputs": [
    {
     "data": {
      "text/plain": []
     },
     "execution_count": 151,
     "metadata": {},
     "output_type": "execute_result"
    }
   ],
   "source": [
    "# Ejer: aumentar en eficiencia la función deBaseDosADiez que viene más abajo."
   ]
  },
  {
   "cell_type": "code",
   "execution_count": 131,
   "metadata": {},
   "outputs": [
    {
     "data": {
      "text/plain": []
     },
     "execution_count": 131,
     "metadata": {},
     "output_type": "execute_result"
    }
   ],
   "source": [
    "def deBaseDosADiez(signoLista):  # es una versión ineficiente\n",
    "    \"\"\"\n",
    "    dado un par formado por un signo y una lista de dígitos en binario\n",
    "    responde con el número correspondiente en base 10 afectado de su signo\n",
    "    \"\"\"\n",
    "    l, s = signoLista[1], sign(signoLista[0])  \n",
    "    m = len(l)\n",
    "    if m:\n",
    "        m = m - 1\n",
    "        for i in range(m):\n",
    "           if l[i]:\n",
    "               l[i] = 2^(m-i)\n",
    "        respuesta = s * sum(l)\n",
    "    else:\n",
    "        respuesta = \"error: segunda componente debe ser no vacía\"\n",
    "    return respuesta"
   ]
  },
  {
   "cell_type": "code",
   "execution_count": 128,
   "metadata": {},
   "outputs": [
    {
     "data": {
      "text/plain": [
       "315"
      ]
     },
     "execution_count": 128,
     "metadata": {},
     "output_type": "execute_result"
    }
   ],
   "source": [
    "deBaseDosADiez((1, [1, 0, 0, 1, 1, 1, 0, 1, 1]))"
   ]
  },
  {
   "cell_type": "code",
   "execution_count": 129,
   "metadata": {},
   "outputs": [
    {
     "data": {
      "text/plain": [
       "-3215"
      ]
     },
     "execution_count": 129,
     "metadata": {},
     "output_type": "execute_result"
    }
   ],
   "source": [
    "deBaseDosADiez((-5, [1,1,0,0,1,0,0,0,1,1,1,1]))"
   ]
  },
  {
   "cell_type": "code",
   "execution_count": 134,
   "metadata": {},
   "outputs": [
    {
     "data": {
      "text/plain": [
       "'error: segunda componente debe ser no vac\\xc3\\xada'"
      ]
     },
     "execution_count": 134,
     "metadata": {},
     "output_type": "execute_result"
    }
   ],
   "source": [
    "deBaseDosADiez((-5, []))"
   ]
  },
  {
   "cell_type": "code",
   "execution_count": 143,
   "metadata": {},
   "outputs": [
    {
     "data": {
      "text/plain": []
     },
     "execution_count": 143,
     "metadata": {},
     "output_type": "execute_result"
    }
   ],
   "source": [
    "def solCong(a,b,m):\n",
    "    \"\"\"\n",
    "    a y b son enteros, pero m debe ser un positivo mayor que 1.\n",
    "    \"solCongruencia\" da la solución a la congruencia, si existe, y \n",
    "    una advertencia en caso contrario\n",
    "    \"\"\"\n",
    "    a, b, m = int(a), int(b), int(m) * sign(m)\n",
    "    x=xgcd(m,a)\n",
    "    if b % x[0]:\n",
    "        return 'No tiene solución'\n",
    "       #return [0,0]\n",
    "    else:\n",
    "        m = m // x[0]\n",
    "        b = b // x[0]\n",
    "        return [b*x[2] % m,m]"
   ]
  },
  {
   "cell_type": "code",
   "execution_count": 144,
   "metadata": {},
   "outputs": [
    {
     "data": {
      "text/plain": [
       "[2, 7]"
      ]
     },
     "execution_count": 144,
     "metadata": {},
     "output_type": "execute_result"
    }
   ],
   "source": [
    "solCong(48,12,14)"
   ]
  },
  {
   "cell_type": "code",
   "execution_count": 145,
   "metadata": {},
   "outputs": [
    {
     "data": {
      "text/plain": [
       "[1, 3]"
      ]
     },
     "execution_count": 145,
     "metadata": {},
     "output_type": "execute_result"
    }
   ],
   "source": [
    "solCong(1,10,3)"
   ]
  },
  {
   "cell_type": "code",
   "execution_count": 146,
   "metadata": {},
   "outputs": [
    {
     "data": {
      "text/plain": [
       "[2, 4]"
      ]
     },
     "execution_count": 146,
     "metadata": {},
     "output_type": "execute_result"
    }
   ],
   "source": [
    "solCong(15,10,20)"
   ]
  },
  {
   "cell_type": "code",
   "execution_count": 147,
   "metadata": {},
   "outputs": [
    {
     "data": {
      "text/plain": [
       "[3, 5]"
      ]
     },
     "execution_count": 147,
     "metadata": {},
     "output_type": "execute_result"
    }
   ],
   "source": [
    "solCong(3,24,5)"
   ]
  },
  {
   "cell_type": "code",
   "execution_count": 148,
   "metadata": {},
   "outputs": [
    {
     "data": {
      "text/plain": [
       "[4, 21]"
      ]
     },
     "execution_count": 148,
     "metadata": {},
     "output_type": "execute_result"
    }
   ],
   "source": [
    "solCong(16,1,21)"
   ]
  },
  {
   "cell_type": "code",
   "execution_count": 149,
   "metadata": {},
   "outputs": [
    {
     "data": {
      "text/plain": [
       "'No tiene soluci\\xc3\\xb3n'"
      ]
     },
     "execution_count": 149,
     "metadata": {},
     "output_type": "execute_result"
    }
   ],
   "source": [
    "solCong(7,1,21)"
   ]
  },
  {
   "cell_type": "code",
   "execution_count": 150,
   "metadata": {},
   "outputs": [
    {
     "data": {
      "text/plain": []
     },
     "execution_count": 150,
     "metadata": {},
     "output_type": "execute_result"
    }
   ],
   "source": []
  }
 ],
 "metadata": {
  "kernelspec": {
   "display_name": "SageMath 8.1",
   "language": "",
   "name": "sagemath"
  },
  "language": "python",
  "language_info": {
   "codemirror_mode": {
    "name": "ipython",
    "version": 2
   },
   "file_extension": ".py",
   "mimetype": "text/x-python",
   "name": "python",
   "nbconvert_exporter": "python",
   "pygments_lexer": "ipython2",
   "version": "2.7.15+"
  }
 },
 "nbformat": 4,
 "nbformat_minor": 2
}
