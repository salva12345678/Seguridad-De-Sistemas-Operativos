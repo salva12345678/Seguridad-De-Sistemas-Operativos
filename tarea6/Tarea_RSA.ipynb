{
 "cells": [
  {
   "cell_type": "code",
   "execution_count": 3,
   "metadata": {},
   "outputs": [],
   "source": [
    "alfabeto=' ABCDEFGHIJKLMNOPQRSTUVWXYZ'\n",
    "L=len(alfabeto)\n",
    "def codifica_letra(letra):\n",
    "    return alfabeto.index(letra)\n",
    "def decodifica_letra(n):\n",
    "    return alfabeto[n]"
   ]
  },
  {
   "cell_type": "code",
   "execution_count": 7,
   "metadata": {},
   "outputs": [],
   "source": [
    "def codifica_cadena(texto):\n",
    "    return [codifica_letra(c) for c in texto]\n",
    "def decodifica_cadena(lista):\n",
    "    return ''.join([decodifica_letra(j) for j in lista])"
   ]
  },
  {
   "cell_type": "code",
   "execution_count": 8,
   "metadata": {},
   "outputs": [],
   "source": [
    "def encripta_RSA(lista,N,e):\n",
    "    return [power_mod(numero,e,N) for numero in lista]\n",
    "def desencripta_RSA(lista,N,d):\n",
    "    return [power_mod(numero,d,N) for numero in lista]\n"
   ]
  },
  {
   "cell_type": "code",
   "execution_count": 11,
   "metadata": {},
   "outputs": [
    {
     "name": "stdout",
     "output_type": "stream",
     "text": [
      "1397908773240007558587233851823 1007580957928880740116332878087 1408506260838353342470851821922795196749485774658684481702601\n"
     ]
    }
   ],
   "source": [
    "tamanyo = 1e30\n",
    "K=randint(tamanyo,2*tamanyo)\n",
    "p=next_prime(K)\n",
    "K=randint(tamanyo,2*tamanyo)\n",
    "q=next_prime(K)\n",
    "N=p*q\n",
    "print p,q,N"
   ]
  },
  {
   "cell_type": "code",
   "execution_count": 12,
   "metadata": {},
   "outputs": [
    {
     "name": "stdout",
     "output_type": "stream",
     "text": [
      "1218858427009975133440574044156175904284107099253262808342883\n"
     ]
    }
   ],
   "source": [
    "phi = (p-1)*(q-1)\n",
    "e = randint(1,phi)\n",
    "while gcd(e,phi)>1:\n",
    "    e = randint(1,phi)\n",
    "print e"
   ]
  },
  {
   "cell_type": "code",
   "execution_count": 13,
   "metadata": {},
   "outputs": [
    {
     "name": "stdout",
     "output_type": "stream",
     "text": [
      "1178629126785814075961413178933614924169910812976537211719671\n"
     ]
    }
   ],
   "source": [
    "d=inverse_mod(e,phi)\n",
    "print d"
   ]
  },
  {
   "cell_type": "code",
   "execution_count": 14,
   "metadata": {},
   "outputs": [],
   "source": [
    "alfabeto = u''' abcdefghijklmnopqrstuvwxyzABCDEFGHIJKLMNOPQRSTUVWXYZ!\"#$%&\\'()*+,-./:;<=>?@[\\\\]^_`{|}~\\t\\n\\x0b\\x0c\\r0123456789áéíóúñ'''\n",
    "L=len(alfabeto)\n"
   ]
  },
  {
   "cell_type": "code",
   "execution_count": 17,
   "metadata": {},
   "outputs": [],
   "source": [
    "cable=\"C O N F I D E N T I A L\" "
   ]
  },
  {
   "cell_type": "code",
   "execution_count": 37,
   "metadata": {},
   "outputs": [],
   "source": [
    "def bloque2numero(bloque):\n",
    "    numero = 0\n",
    "    for k in bloque:\n",
    "        numero = numero*L + k\n",
    "    return numero"
   ]
  },
  {
   "cell_type": "code",
   "execution_count": null,
   "metadata": {},
   "outputs": [],
   "source": []
  },
  {
   "cell_type": "code",
   "execution_count": 38,
   "metadata": {},
   "outputs": [],
   "source": [
    "def decodifica_letra(n):\n",
    "    return alfabeto[n]\n",
    "\n",
    "def numero2bloque(n,b):\n",
    "    bloque=[]\n",
    "    for i in range(b):\n",
    "        bloque.append(n%L)\n",
    "        n=n//L\n",
    "    bloque.reverse()\n",
    "    return bloque\n",
    "\n",
    "def decodifica_mensaje(secuencia,b):\n",
    "    bloques=[numero2bloque(numero,b) for numero in secuencia]\n",
    "    numeros=[]\n",
    "    for b in bloques:\n",
    "        numeros.extend(b)   #extiende numeros con los numeros del bloque b\n",
    "    letras=[decodifica_letra(k) for k in numeros]\n",
    "    mensaje=''.join(letras)\n",
    "    return mensaje"
   ]
  },
  {
   "cell_type": "code",
   "execution_count": null,
   "metadata": {},
   "outputs": [],
   "source": []
  },
  {
   "cell_type": "code",
   "execution_count": 39,
   "metadata": {},
   "outputs": [],
   "source": [
    "def codifica_mensaje(mensaje,b):\n",
    "    letras = [codifica_letra(letra) for letra in mensaje]\n",
    "    letras = letras + [0]*(b-len(letras)%b)\n",
    "    n = len(letras)\n",
    "    bloques = [letras[i:i+b] for i in range(0,n,b)]\n",
    "    codigo = [bloque2numero(bloque) for bloque in bloques]\n",
    "    return codigo\n"
   ]
  },
  {
   "cell_type": "code",
   "execution_count": null,
   "metadata": {},
   "outputs": [],
   "source": []
  },
  {
   "cell_type": "code",
   "execution_count": 40,
   "metadata": {},
   "outputs": [],
   "source": [
    "def encripta_mensaje(mensaje, clave_publica):\n",
    "    N,e = clave_publica\n",
    "    b   = floor( log(N)/log(L) )\n",
    "    mensaje_codificado = codifica_mensaje(mensaje,b)\n",
    "    mensaje_encriptado = encripta_RSA(mensaje_codificado,N,e)\n",
    "    return mensaje_encriptado"
   ]
  },
  {
   "cell_type": "code",
   "execution_count": 41,
   "metadata": {},
   "outputs": [],
   "source": [
    "def desencripta_mensaje(secuencia, clave_privada):\n",
    "    N,d=clave_privada\n",
    "    b=floor( log(N)/log(L) )\n",
    "    mensaje_codificado = desencripta_RSA(secuencia,N,d)\n",
    "    mensaje_decodificado = decodifica_mensaje(mensaje_codificado,b)\n",
    "    return mensaje_decodificado\n"
   ]
  },
  {
   "cell_type": "code",
   "execution_count": 42,
   "metadata": {},
   "outputs": [
    {
     "name": "stdout",
     "output_type": "stream",
     "text": [
      "[883504417837808241042757485182401034608549200860742599151155]\n"
     ]
    }
   ],
   "source": [
    "numeros=encripta_mensaje(cable, (N,e))\n",
    "print numeros"
   ]
  },
  {
   "cell_type": "code",
   "execution_count": 43,
   "metadata": {},
   "outputs": [
    {
     "name": "stdout",
     "output_type": "stream",
     "text": [
      "C O N F I D E N T I A L      \n"
     ]
    }
   ],
   "source": [
    "print desencripta_mensaje(numeros,(N,d))"
   ]
  },
  {
   "cell_type": "code",
   "execution_count": null,
   "metadata": {},
   "outputs": [],
   "source": []
  },
  {
   "cell_type": "code",
   "execution_count": null,
   "metadata": {},
   "outputs": [],
   "source": []
  },
  {
   "cell_type": "markdown",
   "metadata": {},
   "source": []
  },
  {
   "cell_type": "code",
   "execution_count": 20,
   "metadata": {},
   "outputs": [],
   "source": [
    "def rsa(bits):\n",
    "    # only prove correctness up to 1024 bits\n",
    "    proof = (bits <= 1024)\n",
    "    p = next_prime(ZZ.random_element(2**(bits//2+1)),\n",
    "            proof=proof)\n",
    "    q = next_prime(ZZ.random_element(2**(bits//2+1)),\n",
    "            proof=proof)\n",
    "    n = p*q\n",
    "    phi_n = (p-1)*(q-1)\n",
    "    while True:\n",
    "        e = ZZ.random_element(1,phi_n)\n",
    "        if gcd(e,phi_n) == 1: break\n",
    "    d = lift(Mod(e,phi_n)^(-1))\n",
    "    return e, d, n"
   ]
  },
  {
   "cell_type": "code",
   "execution_count": 21,
   "metadata": {},
   "outputs": [
    {
     "data": {
      "text/plain": [
       "(62278099863096289203221032809635363884978989141893150748167829601452199754754322888351752249334381892997776259622222479401564493866666975589069795930669575861064929704677024474807785564519295809273661294479982361523074516986709633103431506992504528490434003999530539362053099944511515967469521256138254621479,\n",
       " 65359479704636677012183688369880532725039842582683411192094139380853096260237821855255276443764645188875133591558204710478837784266814772652867563111651745334928017740086791772317689780045515148426033492183545950066462056445654646401480856058601754543702464632257028378908847903304471861126568016477484809807,\n",
       " 100632741367962005589089579001988022222725099361361939374458461106800762214588623861825728127854563776452258775533057553325999264557250876667139429271867404474897658987120753944154833251175178443760671144714151222137468006127498692179560854938320044335349542492773649773398281523880129516634524719264384486481)"
      ]
     },
     "execution_count": 21,
     "metadata": {},
     "output_type": "execute_result"
    }
   ],
   "source": [
    "rsa(1024)"
   ]
  },
  {
   "cell_type": "code",
   "execution_count": 4,
   "metadata": {},
   "outputs": [],
   "source": [
    "def encrypt(m, e, n):\n",
    "    return lift(Mod(m,n)^e)\n",
    "    \n",
    "def decrypt(c, d, n):\n",
    "    return lift(Mod(c,n)^d)"
   ]
  },
  {
   "cell_type": "code",
   "execution_count": 5,
   "metadata": {},
   "outputs": [],
   "source": [
    "e,d,n = rsa(20)"
   ]
  },
  {
   "cell_type": "code",
   "execution_count": 6,
   "metadata": {},
   "outputs": [
    {
     "data": {
      "text/plain": [
       "(446401, 1623313, 2954431)"
      ]
     },
     "execution_count": 6,
     "metadata": {},
     "output_type": "execute_result"
    }
   ],
   "source": [
    "e,d,n "
   ]
  },
  {
   "cell_type": "code",
   "execution_count": 7,
   "metadata": {},
   "outputs": [],
   "source": [
    "c = encrypt(130,e,n)"
   ]
  },
  {
   "cell_type": "code",
   "execution_count": 8,
   "metadata": {},
   "outputs": [
    {
     "data": {
      "text/plain": [
       "373558"
      ]
     },
     "execution_count": 8,
     "metadata": {},
     "output_type": "execute_result"
    }
   ],
   "source": [
    "c"
   ]
  },
  {
   "cell_type": "code",
   "execution_count": 9,
   "metadata": {},
   "outputs": [],
   "source": [
    "t=decrypt(c,d,n)"
   ]
  },
  {
   "cell_type": "code",
   "execution_count": 10,
   "metadata": {},
   "outputs": [
    {
     "data": {
      "text/plain": [
       "130"
      ]
     },
     "execution_count": 10,
     "metadata": {},
     "output_type": "execute_result"
    }
   ],
   "source": [
    "t"
   ]
  },
  {
   "cell_type": "code",
   "execution_count": 11,
   "metadata": {},
   "outputs": [],
   "source": [
    "def encode(s):\n",
    "    s = str(s)\n",
    "    return sum(ord(s[i])*256^i for i in range(len(s)))\n",
    "\n",
    "def decode(n):\n",
    "    n = Integer(n)\n",
    "    v = []\n",
    "    while n != 0:\n",
    "        v.append(chr(n % 256))\n",
    "        n //= 256     # this replaces n by floor(n/256)\n",
    "    return ''.join(v) "
   ]
  },
  {
   "cell_type": "code",
   "execution_count": 12,
   "metadata": {},
   "outputs": [
    {
     "data": {
      "text/plain": [
       "617488957642785060178"
      ]
     },
     "execution_count": 12,
     "metadata": {},
     "output_type": "execute_result"
    }
   ],
   "source": [
    "m = encode('Run away!'); m"
   ]
  },
  {
   "cell_type": "code",
   "execution_count": 13,
   "metadata": {},
   "outputs": [
    {
     "data": {
      "text/plain": [
       "'Run away!'"
      ]
     },
     "execution_count": 13,
     "metadata": {},
     "output_type": "execute_result"
    }
   ],
   "source": [
    "decode(m) "
   ]
  },
  {
   "cell_type": "markdown",
   "metadata": {},
   "source": [
    "### 1.Emita una pareja de claves ,pública y privada para adherirse usted aun círculo RSA como usuario A."
   ]
  },
  {
   "cell_type": "code",
   "execution_count": 1,
   "metadata": {},
   "outputs": [],
   "source": [
    "p = 11\n",
    "q = 23\n",
    "n = p * q\n",
    "totient = (p-1)*(q-1)"
   ]
  },
  {
   "cell_type": "code",
   "execution_count": 3,
   "metadata": {},
   "outputs": [
    {
     "name": "stdout",
     "output_type": "stream",
     "text": [
      "1\n"
     ]
    }
   ],
   "source": [
    "primo = gcd(3,totient)\n",
    "print primo\n",
    "primo = 3"
   ]
  },
  {
   "cell_type": "code",
   "execution_count": 5,
   "metadata": {},
   "outputs": [],
   "source": [
    "inv = 3.inverse_mod(totient)\n",
    "#clave publica (3,n)\n",
    "#clave privada (inv, n)\n",
    "#Mensaje = RSA = 17 18 0\n",
    "a = 17\n",
    "b = 18\n",
    "c = 0\n",
    "a1 = a**3 % n\n",
    "b1 = b**3 % n\n",
    "c1 = c**3 % n"
   ]
  },
  {
   "cell_type": "code",
   "execution_count": 6,
   "metadata": {},
   "outputs": [
    {
     "name": "stdout",
     "output_type": "stream",
     "text": [
      "106 13 0\n"
     ]
    }
   ],
   "source": [
    "print a1, b1, c1"
   ]
  },
  {
   "cell_type": "code",
   "execution_count": 8,
   "metadata": {},
   "outputs": [
    {
     "name": "stdout",
     "output_type": "stream",
     "text": [
      "17 18 0\n"
     ]
    }
   ],
   "source": [
    "#17³mod(n) = 106\n",
    "#18³mod(n) = 13\n",
    "#0³mod(253) = 0\n",
    "\n",
    "#DESCIFRADO\n",
    "#106^inv(mod(n)) = 17\n",
    "#13^inv(mod(n)) = 18\n",
    "#0^inv(mod(n)) = 0\n",
    "a2 = a1**inv % n\n",
    "b2 = b1**inv % n\n",
    "c2 = c1**inv % n\n",
    "print a2, b2, c2"
   ]
  },
  {
   "cell_type": "code",
   "execution_count": 16,
   "metadata": {},
   "outputs": [
    {
     "ename": "SyntaxError",
     "evalue": "invalid syntax (<ipython-input-16-7e95a423140c>, line 5)",
     "output_type": "error",
     "traceback": [
      "\u001b[0;36m  File \u001b[0;32m\"<ipython-input-16-7e95a423140c>\"\u001b[0;36m, line \u001b[0;32m5\u001b[0m\n\u001b[0;31m    Integer(18)**Integer(3) = Integer(5832) mod Integer(49569253) = ##5832\u001b[0m\n\u001b[0m                                              ^\u001b[0m\n\u001b[0;31mSyntaxError\u001b[0m\u001b[0;31m:\u001b[0m invalid syntax\n"
     ]
    }
   ],
   "source": [
    "{49569253, 3}\n",
    "#Asignamos a cada letra un número, A = 0, B = 1, ... , Z = 25\n",
    "#Mensaje a cifrar (M): SEGURIDAD\n",
    "#M = 18 4 6 20 17 8 3 0 3 \n",
    "18**3 = 5832 mod 49569253 = 5832\n",
    "43**3 = 64 mod 49569253 = 64\n",
    "6³ = 216 mod 49569253 = 216\n",
    "20³ = 8000 mod 49569253 = 8000\n",
    "17³ = 4913 mod 49569253 = 4913\n",
    "8³ = 512 mod 49569253 = 512\n",
    "3³ = 27 mod 49569253 = 27\n",
    "0³ = 0 mod 49569253 = 0\n",
    "3³ = 27 mod 49569253 = 27"
   ]
  },
  {
   "cell_type": "code",
   "execution_count": 18,
   "metadata": {},
   "outputs": [
    {
     "name": "stdout",
     "output_type": "stream",
     "text": [
      "4913 5832 0\n"
     ]
    }
   ],
   "source": [
    "#Mensaje cifrado (C)= 5832 64 216 8000 4913 512 0 27\n",
    "\n",
    "##############SAGE\n",
    "n = 49569253\n",
    "primo = 3\n",
    "#RSA = 17 18 0\n",
    "r = 17\n",
    "s = 18\n",
    "a = 0\n",
    "r1 = r**primo % n\n",
    "s1 = s**primo % n\n",
    "a1 = a**primo % n\n",
    "print r1, s1, a1\n",
    "\n"
   ]
  },
  {
   "cell_type": "markdown",
   "metadata": {},
   "source": [
    "## 3.La clave pública de Alice en determinado círculo de usuarios RSA es〈49569253, 3〉. Cifre para ella un determinado mensaje m de su invención."
   ]
  },
  {
   "cell_type": "code",
   "execution_count": 19,
   "metadata": {},
   "outputs": [
    {
     "name": "stdout",
     "output_type": "stream",
     "text": [
      "(1, 798, -521)\n"
     ]
    },
    {
     "data": {
      "text/plain": [
       "171800"
      ]
     },
     "execution_count": 19,
     "metadata": {},
     "output_type": "execute_result"
    }
   ],
   "source": [
    "n, e1, e2 = 49569253, 1121, 1717\n",
    "a = xgcd (e1,e2) #Igualdad de euclides: 1121*798-1717*521 = 1\n",
    "print a\n",
    "mensaje1 = 16187450\n",
    "mensaje2 = 2897699\n",
    "(mensaje1**798)*(mensaje2)**(-521) % n\n",
    "#17 18 0 = RSA\n"
   ]
  },
  {
   "cell_type": "code",
   "execution_count": 21,
   "metadata": {},
   "outputs": [
    {
     "ename": "SyntaxError",
     "evalue": "invalid syntax (<ipython-input-21-6c181e478a3f>, line 3)",
     "output_type": "error",
     "traceback": [
      "\u001b[0;36m  File \u001b[0;32m\"<ipython-input-21-6c181e478a3f>\"\u001b[0;36m, line \u001b[0;32m3\u001b[0m\n\u001b[0;31m    x = Integer(14087332) mod Integer(49569253)\u001b[0m\n\u001b[0m                            ^\u001b[0m\n\u001b[0;31mSyntaxError\u001b[0m\u001b[0;31m:\u001b[0m invalid syntax\n"
     ]
    }
   ],
   "source": [
    "##-------5--------\n",
    "##----5.1---\n",
    "x = 14087332 mod 49569253\n",
    "x = 27425305 mod 45729283\n",
    "x = 62007067 mod 62615533\n",
    "raiz cubica 1331475586633548091 = 1100131\n",
    "\n",
    "----5.2---\n",
    "x = 1176293 mod 49569253\n",
    "x = 14483107 mod 45729283\n",
    "x = 35550694 mod 62615533\n",
    "raiz cubica 64998944742277873664 = 4020704\n",
    "\n",
    "----5.3--- \n",
    "x = 46828916 mod 49569253\n",
    "x = 13942406 mod 45729283\n",
    "x = 62611116 mod 62615533\n",
    "raiz cubica 73050358288627000 = 418030\n",
    "\n",
    "----5.4---\n",
    "x = 15244478 mod 49569253\n",
    "x = 44901956 mod 45729283\n",
    "x = 4185043 mod 62615533\n",
    "raiz cubica 69498414788478126632 = 4111418 \n",
    "\n",
    "----5.5---\n",
    "x = 34299711 mod 49569253\n",
    "x = 24874564 mod 45729283\n",
    "x = 52598842 mod 62615533\n",
    "raiz cubica 216206345672767871 = 600191\n",
    "\n",
    "----5.6---\n",
    "x = 48939817 mod 49569253\n",
    "x = 7906872 mod 45729283\n",
    "x = 59059670 mod 62615533\n",
    "raiz cubica 73151164942912005048 = 4182222\n",
    "\n",
    "11 00 13 14 02 07 04 4 18 03 04 11 14 18 6 00 19 14 18 22 22\n",
    "LA NOCHE ES DE LOS GATOS WW"
   ]
  },
  {
   "cell_type": "code",
   "execution_count": null,
   "metadata": {},
   "outputs": [],
   "source": []
  }
 ],
 "metadata": {
  "kernelspec": {
   "display_name": "SageMath 8.1",
   "language": "",
   "name": "sagemath"
  },
  "language": "python",
  "language_info": {
   "codemirror_mode": {
    "name": "ipython",
    "version": 2
   },
   "file_extension": ".py",
   "mimetype": "text/x-python",
   "name": "python",
   "nbconvert_exporter": "python",
   "pygments_lexer": "ipython2",
   "version": "2.7.15+"
  }
 },
 "nbformat": 4,
 "nbformat_minor": 2
}
