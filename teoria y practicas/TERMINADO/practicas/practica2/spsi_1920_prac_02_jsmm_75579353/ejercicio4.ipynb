{
 "cells": [
  {
   "cell_type": "markdown",
   "metadata": {},
   "source": [
    "# Practica 2"
   ]
  },
  {
   "cell_type": "markdown",
   "metadata": {},
   "source": [
    "4.Ponga en claro , con una explicación razonada del procedimiento seguido , el siguiente texto cifrado mediante el criptosistema afín."
   ]
  },
  {
   "cell_type": "markdown",
   "metadata": {},
   "source": [
    "## Funciones usadas para resolver el ejercicio."
   ]
  },
  {
   "cell_type": "markdown",
   "metadata": {},
   "source": [
    "Maximo comun divisor"
   ]
  },
  {
   "cell_type": "code",
   "execution_count": 38,
   "metadata": {},
   "outputs": [],
   "source": [
    "def mcd(n1,n2):\n",
    "    return (n1.gcd(n2))"
   ]
  },
  {
   "cell_type": "code",
   "execution_count": 39,
   "metadata": {},
   "outputs": [
    {
     "data": {
      "text/plain": [
       "2"
      ]
     },
     "execution_count": 39,
     "metadata": {},
     "output_type": "execute_result"
    }
   ],
   "source": [
    "mcd(2,4)"
   ]
  },
  {
   "cell_type": "markdown",
   "metadata": {},
   "source": [
    "Función que le hace el modulo a la ecuacion"
   ]
  },
  {
   "cell_type": "code",
   "execution_count": 40,
   "metadata": {},
   "outputs": [],
   "source": [
    "def modulo(n1,n2,n3):\n",
    "    n1=n1 % n3\n",
    "    n2=n2 % n3\n",
    "    return n1,n2"
   ]
  },
  {
   "cell_type": "code",
   "execution_count": 41,
   "metadata": {},
   "outputs": [
    {
     "data": {
      "text/plain": [
       "(2, 2)"
      ]
     },
     "execution_count": 41,
     "metadata": {},
     "output_type": "execute_result"
    }
   ],
   "source": [
    "modulo (10,2,4)"
   ]
  },
  {
   "cell_type": "markdown",
   "metadata": {},
   "source": [
    "Saber si la ecuacion en congruencia tiene solucion \n",
    "ax=b mod m ==> mcd(a,m)/ b donde n1=a,n2=b,n3=m"
   ]
  },
  {
   "cell_type": "code",
   "execution_count": 42,
   "metadata": {},
   "outputs": [],
   "source": [
    "def tienesolucion(n1,n2,n3):\n",
    "    k=mcd(n1,n3)\n",
    "    if ( n2 % k != 0):\n",
    "        return false\n",
    "    else:\n",
    "        return true\n"
   ]
  },
  {
   "cell_type": "code",
   "execution_count": 43,
   "metadata": {},
   "outputs": [
    {
     "data": {
      "text/plain": [
       "True"
      ]
     },
     "execution_count": 43,
     "metadata": {},
     "output_type": "execute_result"
    }
   ],
   "source": [
    "tienesolucion(10,2,4)"
   ]
  },
  {
   "cell_type": "markdown",
   "metadata": {},
   "source": [
    "Función de que reduce la ecuacion si tiene solucion y el maximo comun divisor es mayor que uno que divida toda la función por ese numero"
   ]
  },
  {
   "cell_type": "code",
   "execution_count": 44,
   "metadata": {},
   "outputs": [],
   "source": [
    "def reducirecuacion(n1,n2,n3):\n",
    "    k=mcd(n1,n3)\n",
    "    n1=n1/k\n",
    "    n2=n2/k\n",
    "    n3=n3/k\n",
    "    return n1,n2,n3"
   ]
  },
  {
   "cell_type": "code",
   "execution_count": 45,
   "metadata": {},
   "outputs": [
    {
     "data": {
      "text/plain": [
       "(1, 1, 2)"
      ]
     },
     "execution_count": 45,
     "metadata": {},
     "output_type": "execute_result"
    }
   ],
   "source": [
    "reducirecuacion(2,2,4)"
   ]
  },
  {
   "cell_type": "markdown",
   "metadata": {},
   "source": [
    "calcular los coeficientes de bezout (algoritmo extendido de euclides)"
   ]
  },
  {
   "cell_type": "code",
   "execution_count": 46,
   "metadata": {},
   "outputs": [],
   "source": [
    "def bezout(m,n):\n",
    "    (d,u,v)=xgcd(m,n)\n",
    "    return u\n",
    "\n"
   ]
  },
  {
   "cell_type": "code",
   "execution_count": 47,
   "metadata": {},
   "outputs": [
    {
     "data": {
      "text/plain": [
       "1"
      ]
     },
     "execution_count": 47,
     "metadata": {},
     "output_type": "execute_result"
    }
   ],
   "source": [
    "bezout(13,26)\n"
   ]
  },
  {
   "cell_type": "markdown",
   "metadata": {},
   "source": [
    "Función que resuelve una ecuación en congruencia"
   ]
  },
  {
   "cell_type": "code",
   "execution_count": 18,
   "metadata": {},
   "outputs": [],
   "source": [
    "def ecuacioncongruencia(n1,n2,n3):\n",
    "    n1,n2=modulo(n1,n2,n3)\n",
    "    if tienesolucion(n1,n2,n3):\n",
    "       n1,n2,n3= reducirecuacion(n1,n2,n3)\n",
    "       u=bezout(n1,n3)\n",
    "       n1=n1*u\n",
    "       n2=n2*u\n",
    "       n1,n2=modulo(n1,n2,n3)\n",
    "       return n2,n3 \n",
    "    else:\n",
    "        print \"no hay solucion\""
   ]
  },
  {
   "cell_type": "code",
   "execution_count": 19,
   "metadata": {},
   "outputs": [
    {
     "data": {
      "text/plain": [
       "(2, 7)"
      ]
     },
     "execution_count": 19,
     "metadata": {},
     "output_type": "execute_result"
    }
   ],
   "source": [
    "ecuacioncongruencia(5,3,7)"
   ]
  },
  {
   "cell_type": "markdown",
   "metadata": {},
   "source": [
    "Función que resuelve un sistema de ecuaciónes en congruencia"
   ]
  },
  {
   "cell_type": "code",
   "execution_count": 20,
   "metadata": {},
   "outputs": [],
   "source": [
    "def siscongruencias(a1,b1,c1,a2,b2,c2):\n",
    "    b1,c1=ecuacioncongruencia(a1,b1,c1)\n",
    "    aux1,aux2=a2*b1,a2*c1\n",
    "    b2,c2=ecuacioncongruencia(aux2,b2-aux1,c2)\n",
    "    y=b1+(c1*b2)\n",
    "    z=c1*c2\n",
    "    return y,z"
   ]
  },
  {
   "cell_type": "code",
   "execution_count": null,
   "metadata": {},
   "outputs": [],
   "source": []
  },
  {
   "cell_type": "code",
   "execution_count": 21,
   "metadata": {},
   "outputs": [
    {
     "data": {
      "text/plain": [
       "(16231584, 66990895)"
      ]
     },
     "execution_count": 21,
     "metadata": {},
     "output_type": "execute_result"
    }
   ],
   "source": [
    "siscongruencias(1,5495,7643,1,7569,8765)"
   ]
  },
  {
   "cell_type": "code",
   "execution_count": 6,
   "metadata": {},
   "outputs": [],
   "source": [
    "def solcong(a,b,m):\n",
    "    a,b,m=a,b,m\n",
    "    x=xgcd(a,m)\n",
    "    if b % x[0]:\n",
    "        #return 'no tiene solucion'\n",
    "        return [0,0]\n",
    "    else:\n",
    "        m ,b= m // x[0],b // x[0]\n",
    "    return [b*x[1] % m , m]"
   ]
  },
  {
   "cell_type": "code",
   "execution_count": 7,
   "metadata": {},
   "outputs": [
    {
     "data": {
      "text/plain": [
       "[2, 7]"
      ]
     },
     "execution_count": 7,
     "metadata": {},
     "output_type": "execute_result"
    }
   ],
   "source": [
    "solcong(5,3,7)"
   ]
  },
  {
   "cell_type": "code",
   "execution_count": 8,
   "metadata": {},
   "outputs": [],
   "source": [
    "def sisCong(lista1):\n",
    "    s = [0,1]\n",
    "    while len(lista1)>2 and s[1]:\n",
    "        t=solcong(lista1[0]*s[1],lista1[1]-lista1[0]*s[0],lista1[2])\n",
    "        s = [s[0]+s[1] * t[0],t[1]*s[1]]\n",
    "        lista1[0:3]=[]\n",
    "    if s[1]:\n",
    "        return s\n",
    "    else:\n",
    "         return 'no tiene solucion'\n",
    "        \n",
    "        \n",
    "        "
   ]
  },
  {
   "cell_type": "code",
   "execution_count": null,
   "metadata": {},
   "outputs": [],
   "source": []
  },
  {
   "cell_type": "markdown",
   "metadata": {},
   "source": [
    "Definimos el anillo de polinomios"
   ]
  },
  {
   "cell_type": "code",
   "execution_count": null,
   "metadata": {},
   "outputs": [],
   "source": []
  },
  {
   "cell_type": "code",
   "execution_count": 1,
   "metadata": {},
   "outputs": [],
   "source": [
    "def frecuencia (cadena):\n",
    "    alfabetof='ABCDEFGHIJKLMNÑOPQRSTUVWXYZ'\n",
    "    caracteres =set ()\n",
    "    frecuencias = {}\n",
    "    listacadena=list(cadena)\n",
    "    \n",
    "    for caracter in alfabetof:\n",
    "        caracteres.add(caracter)\n",
    "        \n",
    "    for cantidad in caracteres:\n",
    "        frecuencias.setdefault(cantidad,listacadena.count(cantidad))\n",
    "    \n",
    "    return frecuencias"
   ]
  },
  {
   "cell_type": "code",
   "execution_count": 3,
   "metadata": {},
   "outputs": [],
   "source": [
    "lista='BZBTJAVGQGVOTBVGTKFNGQGVMTTNWVYNBFZBATDTBZYNYTBRANBMTDTBTDEVFZBGTYTBNKNGNBWGNXKNBGTWZGVBZTFQGTNQRAWVYTGVFQTGBTXVWGNBFTMVXYTDNSNQVGTBWTTKTFTAWVLRTQNGTDTBTGZANDDTBZIKTNKEVFIGTTAIRBDNYTKNBQZTSNBLRTMZMTATAFZBIVBLRTBBRIFNGZAVBFZBGTINJAVBDVFVKVBYTKMZTUVQNBWVGYTATQWRAVQNDTABZAWTFVGTAKNBZAFTABNBQGNYTGNBYTKVDTNAVWTAJVXVNEZRANMNBWNQGVQZTYNYLRTTCQKVWVXVFZBFVXLRTTBWNBTFIGNYNQVGKNFNAVYTKDGTNYVGYTWVYNBKNBDVBNB'"
   ]
  },
  {
   "cell_type": "code",
   "execution_count": 4,
   "metadata": {},
   "outputs": [
    {
     "data": {
      "text/plain": [
       "{'A': 22,\n",
       " 'B': 44,\n",
       " 'C': 1,\n",
       " 'D': 13,\n",
       " 'E': 3,\n",
       " 'F': 18,\n",
       " 'G': 29,\n",
       " 'H': 0,\n",
       " 'I': 7,\n",
       " 'J': 3,\n",
       " 'K': 15,\n",
       " 'L': 5,\n",
       " 'M': 7,\n",
       " 'N': 43,\n",
       " 'O': 1,\n",
       " 'P': 0,\n",
       " 'Q': 16,\n",
       " 'R': 11,\n",
       " 'S': 2,\n",
       " 'T': 62,\n",
       " 'U': 1,\n",
       " 'V': 38,\n",
       " 'W': 15,\n",
       " 'X': 6,\n",
       " 'Y': 18,\n",
       " 'Z': 19}"
      ]
     },
     "execution_count": 4,
     "metadata": {},
     "output_type": "execute_result"
    }
   ],
   "source": [
    "frecuencia(lista)"
   ]
  },
  {
   "cell_type": "markdown",
   "metadata": {},
   "source": [
    "Las dos letras que se repiten más en el mensaje cifrado son la T=62 y N=43.Las letras del alfabeto que se repiten más son la e y la a.\n"
   ]
  },
  {
   "cell_type": "markdown",
   "metadata": {},
   "source": [
    "Por lo tanto se forma el siguiente sistema de ecuaciones en congruencia y seguimos los pasos que se explican en la teoria "
   ]
  },
  {
   "cell_type": "markdown",
   "metadata": {},
   "source": [
    "19a'+b'=4 mod 26\n",
    "\n",
    "13a'+b'=0 mod 26\n",
    "\n",
    "Restamos las dos ecuaciones obteniendo 6a'= 4 mod 26 y a' = 5 mod 13. \n",
    "\n",
    "Para la otra despejamos la primera ecuación y sustituimos y obtenemos b'=13 mod 26. \n",
    "\n",
    "Hemos sacado los valores 5 y 13.Los utilizamos en las funciones proporcionadas por sagemath\n"
   ]
  },
  {
   "cell_type": "code",
   "execution_count": 2,
   "metadata": {},
   "outputs": [
    {
     "data": {
      "text/plain": [
       "Affine cryptosystem on Free alphabetic string monoid on A-Z"
      ]
     },
     "execution_count": 2,
     "metadata": {},
     "output_type": "execute_result"
    }
   ],
   "source": [
    "A = AffineCryptosystem(AlphabeticStrings()); A"
   ]
  },
  {
   "cell_type": "code",
   "execution_count": 3,
   "metadata": {},
   "outputs": [],
   "source": [
    "P = A.encoding(\"BZBTJAVGQGVOTBVGTKFNGQGVMTTNWVYNBFZBATDTBZYNYTBRANBMTDTBTDEVFZBGTYTBNKNGNBWGNXKNBGTWZGVBZTFQGTNQRAWVYTGVFQTGBTXVWGNBFTMVXYTDNSNQVGTBWTTKTFTAWVLRTQNGTDTBTGZANDDTBZIKTNKEVFIGTTAIRBDNYTKNBQZTSNBLRTMZMTATAFZBIVBLRTBBRIFNGZAVBFZBGTINJAVBDVFVKVBYTKMZTUVQNBWVGYTATQWRAVQNDTABZAWTFVGTAKNBZAFTABNBQGNYTGNBYTKVDTNAVWTAJVXVNEZRANMNBWNQGVQZTYNYLRTTCQKVWVXVFZBFVXLRTTBWNBTFIGNYNQVGKNFNAVYTKDGTNYVGYTWVYNBKNBDVBNB\")"
   ]
  },
  {
   "cell_type": "code",
   "execution_count": 4,
   "metadata": {},
   "outputs": [
    {
     "data": {
      "text/plain": [
       "BZBTJAVGQGVOTBVGTKFNGQGVMTTNWVYNBFZBATDTBZYNYTBRANBMTDTBTDEVFZBGTYTBNKNGNBWGNXKNBGTWZGVBZTFQGTNQRAWVYTGVFQTGBTXVWGNBFTMVXYTDNSNQVGTBWTTKTFTAWVLRTQNGTDTBTGZANDDTBZIKTNKEVFIGTTAIRBDNYTKNBQZTSNBLRTMZMTATAFZBIVBLRTBBRIFNGZAVBFZBGTINJAVBDVFVKVBYTKMZTUVQNBWVGYTATQWRAVQNDTABZAWTFVGTAKNBZAFTABNBQGNYTGNBYTKVDTNAVWTAJVXVNEZRANMNBWNQGVQZTYNYLRTTCQKVWVXVFZBFVXLRTTBWNBTFIGNYNQVGKNFNAVYTKDGTNYVGYTWVYNBKNBDVBNB"
      ]
     },
     "execution_count": 4,
     "metadata": {},
     "output_type": "execute_result"
    }
   ],
   "source": [
    "P"
   ]
  },
  {
   "cell_type": "code",
   "execution_count": 33,
   "metadata": {},
   "outputs": [],
   "source": [
    "a=5\n",
    "b=13"
   ]
  },
  {
   "cell_type": "code",
   "execution_count": 34,
   "metadata": {},
   "outputs": [
    {
     "data": {
      "text/plain": [
       "SISEGNORPROFESORELMARPROVEEATODASMISNECESIDADESUNASVECESECHOMISREDESALARASTRAYLASRETIROSIEMPREAPUNTODEROMPERSEYOTRASMEVOYDECAZAPORESTEELEMENTOQUEPARECESERINACCESIBLEALHOMBREENBUSCADELASPIEZASQUEVIVENENMISBOSQUESSUBMARINOSMISREBAGNOSCOMOLOSDELVIEJOPASTORDENEPTUNOPACENSINTEMORENLASINMENSASPRADERASDELOCEANOTENGOYOAHIUNAVASTAPROPIEDADQUEEXPLOTOYOMISMOYQUEESTASEMBRADAPORLAMANODELCREADORDETODASLASCOSAS"
      ]
     },
     "execution_count": 34,
     "metadata": {},
     "output_type": "execute_result"
    }
   ],
   "source": [
    "C = A.enciphering(a, b, P); C"
   ]
  },
  {
   "cell_type": "markdown",
   "metadata": {},
   "source": [
    "Podemos observar que las letras GN sustituyen a la Ñ ya que no está incluida en la funciones de sagemath"
   ]
  },
  {
   "cell_type": "code",
   "execution_count": null,
   "metadata": {},
   "outputs": [],
   "source": []
  }
 ],
 "metadata": {
  "kernelspec": {
   "display_name": "SageMath 8.1",
   "language": "",
   "name": "sagemath"
  },
  "language": "python",
  "language_info": {
   "codemirror_mode": {
    "name": "ipython",
    "version": 2
   },
   "file_extension": ".py",
   "mimetype": "text/x-python",
   "name": "python",
   "nbconvert_exporter": "python",
   "pygments_lexer": "ipython2",
   "version": "2.7.15+"
  }
 },
 "nbformat": 4,
 "nbformat_minor": 2
}
