{
 "cells": [
  {
   "cell_type": "markdown",
   "metadata": {},
   "source": [
    "## Tarea 6\n"
   ]
  },
  {
   "cell_type": "code",
   "execution_count": 21,
   "metadata": {},
   "outputs": [],
   "source": [
    "#Cada número de la secuencia se eleva al exponente d módulo N . Para desencriptar se necesita el par formado por N y d , que llamaremos #la clave privada.\n",
    "\n",
    "def encripta_RSA(lista,N,e):\n",
    "     return [power_mod(numero,e,N) for numero in lista]\n"
   ]
  },
  {
   "cell_type": "code",
   "execution_count": 22,
   "metadata": {},
   "outputs": [],
   "source": [
    "def desencripta_RSA(lista,N,d):\n",
    "     return [power_mod(numero,d,N) for numero in lista]\n"
   ]
  },
  {
   "cell_type": "code",
   "execution_count": 23,
   "metadata": {},
   "outputs": [],
   "source": [
    "def codifica_letra(letra):\n",
    "      return alfabeto.index(letra)\n"
   ]
  },
  {
   "cell_type": "code",
   "execution_count": 24,
   "metadata": {},
   "outputs": [],
   "source": [
    "def decodifica_letra(n):\n",
    "      return alfabeto[n]"
   ]
  },
  {
   "cell_type": "code",
   "execution_count": 25,
   "metadata": {},
   "outputs": [],
   "source": [
    "def codifica_cadena(texto):\n",
    "      return [codifica_letra(c) for c in texto]\n"
   ]
  },
  {
   "cell_type": "code",
   "execution_count": 26,
   "metadata": {},
   "outputs": [],
   "source": [
    "def decodifica_cadena(lista):\n",
    "      return ''.join([decodifica_letra(j) for j in lista])\n"
   ]
  },
  {
   "cell_type": "code",
   "execution_count": 27,
   "metadata": {},
   "outputs": [],
   "source": [
    "#Agrupar varios números pequeños en uno grande\n",
    "# agrupar los códigos de varias letras en un sólo número más grande.\n",
    "#Sustituir cada carácter por su código numérico, de la misma forma que hicimos antes\n",
    "#Agrupar un bloque de varios números en un sólo número más grande. El sistema es similar al usado cuando nos daban una lista con los #dígitos de un número y teníamos que recuperar el número.\n",
    "def bloque2numero(bloque):\n",
    "      numero = 0\n",
    "      for k in bloque:\n",
    "          numero = numero*L + k\n",
    "      return numero\n"
   ]
  },
  {
   "cell_type": "code",
   "execution_count": 28,
   "metadata": {},
   "outputs": [],
   "source": [
    "#Encapsulamos la codificación en una función:\n",
    "def codifica_mensaje(mensaje,b):\n",
    "       letras = [codifica_letra(letra) for letra in mensaje]\n",
    "       #rellenamos con espacios en blanco al final\n",
    "       letras = letras + [0]*(b-len(letras)%b)\n",
    "       n = len(letras)\n",
    "       #Agrupamos en bloques\n",
    "       bloques = [letras[i:i+b] for i in range(0,n,b)]\n",
    "       #cambiamos cada bloque por un numero\n",
    "       codigo = [bloque2numero(bloque) for bloque in bloques]\n",
    "       return codigo"
   ]
  },
  {
   "cell_type": "code",
   "execution_count": 29,
   "metadata": {},
   "outputs": [],
   "source": [
    "#operaciones inversas son similares, ahora tenemos que recuperar el texto a partir de la secuencia de números:\n",
    "#1)Convertir los números entre 0 y L^{b}-1 en bloques de b números entre 0 y L .\n",
    "#2)Poner los números de cada bloque unos a continuación de otros.\n",
    "#3)Sustituir los números por los caracteres con esos códigos.\n",
    "#4)Convertir la lista de caracteres en una cadena de caracteres usando join .\n",
    "def decodifica_letra(n):\n",
    "       return alfabeto[n]"
   ]
  },
  {
   "cell_type": "code",
   "execution_count": 30,
   "metadata": {},
   "outputs": [],
   "source": [
    "def numero2bloque(n,b):\n",
    "       bloque=[]\n",
    "       for i in range(b):\n",
    "           bloque.append(n%L)\n",
    "           n=n//L\n",
    "       bloque.reverse()\n",
    "       return bloque"
   ]
  },
  {
   "cell_type": "code",
   "execution_count": 31,
   "metadata": {},
   "outputs": [],
   "source": [
    "def decodifica_mensaje(secuencia,b):\n",
    "       bloques=[numero2bloque(numero,b) for numero in secuencia]\n",
    "       numeros=[]\n",
    "       for b in bloques:\n",
    "           numeros.extend(b)   \n",
    "       letras=[decodifica_letra(k) for k in numeros]\n",
    "       mensaje=''.join(letras)\n",
    "       return mensaje\n"
   ]
  },
  {
   "cell_type": "code",
   "execution_count": 32,
   "metadata": {},
   "outputs": [],
   "source": [
    "#Uniendo los pasos de codificar un texto y encriptarlo, componemos estas dos funciones que trabajan directamente con una cadena de #caracteres y una clave RSA.\n",
    "def encripta_mensaje(mensaje, clave_publica):\n",
    "       N,e = clave_publica\n",
    "       b   = floor( log(N)/log(L) )\n",
    "       mensaje_codificado = codifica_mensaje(mensaje,b)\n",
    "       mensaje_encriptado = encripta_RSA(mensaje_codificado,N,e)\n",
    "       return mensaje_encriptado"
   ]
  },
  {
   "cell_type": "code",
   "execution_count": 33,
   "metadata": {},
   "outputs": [],
   "source": [
    "def desencripta_mensaje(secuencia, clave_privada):\n",
    "       N,d=clave_privada\n",
    "       b=floor( log(N)/log(L) )\n",
    "       mensaje_codificado = desencripta_RSA(secuencia,N,d)\n",
    "       mensaje_decodificado = decodifica_mensaje(mensaje_codificado,b)\n",
    "       return mensaje_decodificado"
   ]
  },
  {
   "cell_type": "markdown",
   "metadata": {},
   "source": [
    "## EJERCICIO 1. Generamos un par de claves pública y privada aleatorias. Emita una pareja de claves, pública y privada #para adherirse usted a un círculo RSA como usuario A.\n",
    "\n"
   ]
  },
  {
   "cell_type": "code",
   "execution_count": 34,
   "metadata": {},
   "outputs": [],
   "source": [
    "tamanio = 1e30\n",
    "K=randint(tamanio,2*tamanio)\n",
    "pA=next_prime(K)\n",
    "K=randint(tamanio,2*tamanio)\n",
    "qA=next_prime(K)\n",
    "NA=pA*qA\n",
    "phiA = (pA-1)*(qA-1)\n",
    "eA = randint(1,phiA)\n",
    "#factor comun mas alto\n",
    "while gcd(eA,phiA)>1:\n",
    "      eA = randint(1,phiA)"
   ]
  },
  {
   "cell_type": "code",
   "execution_count": 35,
   "metadata": {},
   "outputs": [
    {
     "name": "stdout",
     "output_type": "stream",
     "text": [
      "Ejercicio 1\n",
      "Clave pública de A\n",
      "(2018683388120264657205554107399885718107550799252099898143893, 1091407056229197241484554636829951738618106448430207906364751L)\n",
      "Clave privada de A\n",
      "(1946685267944735386332442241101, 1036984982298419094848431071593, 1362114448179381858711664473430780848185447863092015884184751)\n"
     ]
    }
   ],
   "source": [
    "dA=inverse_mod(eA,phiA)\n",
    "print \"Ejercicio 1\"\n",
    "print \"Clave pública de A\"\n",
    "print (NA,eA)\n",
    "print \"Clave privada de A\"\n",
    "print (pA,qA,dA)"
   ]
  },
  {
   "cell_type": "markdown",
   "metadata": {},
   "source": [
    "## Ejercicio 2: Envia un mensaje cifrado y firmado de A a B, y descífralo para ver su contenido. Simule ser un segundo usuario, B, del mismo #circulo y envie de A a B un mensaje firmado y cifrado. Al recibirlo descifrelo y #compruebe la identidad del emisor.\n",
    "\n",
    "\n"
   ]
  },
  {
   "cell_type": "code",
   "execution_count": 46,
   "metadata": {},
   "outputs": [
    {
     "name": "stdout",
     "output_type": "stream",
     "text": [
      "REPLIEGUEALBLOCAOA\n",
      "Clave pública de B\n",
      "2773843467639565838818163967691140396314824736289097643662649 1816280884876155148632615833017360793383925327646838545493729\n",
      "Clave privada de B\n",
      "1420685213950437106611946673633 1952468738607098531225548849753 2210605895723847848434908339495964672321158871701687127674913\n",
      "Mensaje cifrado por A\n",
      "[1315615577857103622441672760859749424395621531310723067483011]\n",
      "Mensaje descifrado por B\n",
      "REPLIEGUEALBLOCAOA            \n"
     ]
    }
   ],
   "source": [
    "alfabeto =' abcdefghijklmnopqrstuvwxyzABCDEFGHIJKLMNOPQRSTUVWXYZ0123456789.,:;/=+-_%#@!¿¡?\"\"&\\<>$~*}{^)('\n",
    "L=len(alfabeto)\n",
    "#Defino un mensaje\n",
    "mensaje='REPLIEGUEALBLOCAOA'\n",
    "#Genero un par de claves pública y privada aleatorias para B\n",
    "tamanyo = 1e30\n",
    "K=randint(tamanyo,2*tamanyo)\n",
    "pB=next_prime(K)\n",
    "K=randint(tamanyo,2*tamanyo)\n",
    "qB=next_prime(K)\n",
    "NB=pB*qB\n",
    "\n",
    "phiB = (pB-1)*(qB-1)\n",
    "eB = randint(1,phiB)\n",
    "#gcd =factor comun mas alto\n",
    "while gcd(eB,phiB)>1:\n",
    "      eB = randint(1,phiB)\n",
    "\n",
    "dB=inverse_mod(eB,phiB)\n",
    "print mensaje\n",
    "print \"Clave pública de B\"\n",
    "print NB,eB\n",
    "print \"Clave privada de B\"\n",
    "print pB,qB,dB\n",
    "\n",
    "#Ciframos el mensaje con la clave pública de B\n",
    "##encriptamos con la clave pública de B\n",
    "numeros=encripta_mensaje(mensaje, (NB,eB))\n",
    "print \"Mensaje cifrado por A\"\n",
    "print numeros\n",
    "\n",
    "#El usuario B descifra el mensaje de A con su clave privada\n",
    "print \"Mensaje descifrado por B\"\n",
    "print desencripta_mensaje(numeros,(NB,dB))"
   ]
  },
  {
   "cell_type": "markdown",
   "metadata": {},
   "source": [
    "## Ejercicio 3:Cifra un mensaje para Alice.La clave publica de Alice en determinado circulo de usuarios RSA es h49569253, 3i.Cifre para ella un determinado mensaje m de su invencion.\n",
    "\n",
    "\n"
   ]
  },
  {
   "cell_type": "code",
   "execution_count": 43,
   "metadata": {},
   "outputs": [
    {
     "name": "stdout",
     "output_type": "stream",
     "text": [
      "Ejercicio 3\n",
      "Mensaje a cifrar\n",
      "REPLIEGUEALBLOCAOA\n",
      "Mensaje cifrado para Alice\n",
      "[8286653, 43457314, 38521495, 16742728]\n",
      "Mensaje descifrado para Alice\n",
      "REPLIEGUEALBLOCAOAAA\n"
     ]
    }
   ],
   "source": [
    "#Entonces la clave publica es:\n",
    "#N es 49569253\n",
    "#e es 3i\n",
    "\n",
    "NAlice=49569253\n",
    "eAlice=3\n",
    "mensaje='REPLIEGUEALBLOCAOA'\n",
    "print \"Ejercicio 3\"\n",
    "print \"Mensaje a cifrar\"\n",
    "print mensaje\n",
    "numeros=encripta_mensaje(mensaje, (NAlice,eAlice))\n",
    "print \"Mensaje cifrado para Alice\"\n",
    "print numeros\n",
    "\n",
    "#Si queremos descifrar el mensaje de Alice para este caso concreto, podríamos obtener su phi de Euler, y a partir de ella su d\n",
    "\n",
    "pAlice=euler_phi(NAlice);\n",
    "dAlice=inverse_mod(eAlice,pAlice)\n",
    "print \"Mensaje descifrado para Alice\"\n",
    "print desencripta_mensaje(numeros,(NAlice,dAlice))\n"
   ]
  },
  {
   "cell_type": "markdown",
   "metadata": {},
   "source": [
    "## Ejercicio 4: Descifra el mensaje para Alice y Bob.Por descuido, Alice y Bob se han unido a un circulo de usuarios RSA con las claves públicas: Alice: h49569253, 1121i,Bob: h49569253, 1717i.Eve decide enviar cierto mensaje m a ambos usuarios, cifrandolo adecuadamente.A Alice le hace llegar 16187450 y a Bob 2897699. Carol es conocedora de esta comunicación y no se resiste a inmiscuirse en la conversacion secreta, pudiendo desvelar lo oculto.\n"
   ]
  },
  {
   "cell_type": "code",
   "execution_count": 19,
   "metadata": {},
   "outputs": [
    {
     "name": "stdout",
     "output_type": "stream",
     "text": [
      "Ejercicio 4\n",
      "Mensaje descifrado para Alice\n",
      "171800\n",
      "Mensaje descifrado para Bob\n",
      "171800\n"
     ]
    }
   ],
   "source": [
    "#clave publica de Alice\n",
    "NAlice=49569253\n",
    "eAlice=1121\n",
    "\n",
    "NBob=49569253\n",
    "eBob=1717\n",
    "\n",
    "cAlice=16187450\n",
    "cBob=2897699\n",
    "alfabeto='ABCDEFGHIJKLMNOPQRSTUVWXYZ'\n",
    "L=len(alfabeto)\n",
    "\n",
    "pAlice=euler_phi(NAlice);\n",
    "dAlice=inverse_mod(eAlice,pAlice)\n",
    "print \"Ejercicio 4\"\n",
    "print \"Mensaje descifrado para Alice\"\n",
    "print power_mod(cAlice,dAlice,NAlice)\n",
    "\n",
    "pBob=euler_phi(NBob);\n",
    "dBob=inverse_mod(eBob,pBob)\n",
    "print \"Mensaje descifrado para Bob\"\n",
    "print power_mod(cBob,dBob,NBob)"
   ]
  },
  {
   "cell_type": "markdown",
   "metadata": {},
   "source": [
    "## Ejercicio 5: Descifra el mensaje para Alice, Bob e Eve\n",
    "\n",
    "\n",
    "\n",
    "\n",
    "\n",
    "\n"
   ]
  },
  {
   "cell_type": "code",
   "execution_count": 38,
   "metadata": {},
   "outputs": [],
   "source": [
    "def mcd(n1,n2):\n",
    "    return (n1.gcd(n2))\n",
    "def modulo(n1,n2,n3):\n",
    "    n1=n1 % n3\n",
    "    n2=n2 % n3\n",
    "    return n1,n2\n",
    "def tienesolucion(n1,n2,n3):\n",
    "    k=mcd(n1,n3)\n",
    "    if ( n2 % k != 0):\n",
    "        return false\n",
    "    else:\n",
    "        return true\n",
    "def reducirecuacion(n1,n2,n3):\n",
    "    k=mcd(n1,n3)\n",
    "    n1=n1/k\n",
    "    n2=n2/k\n",
    "    n3=n3/k\n",
    "    return n1,n2,n3\n",
    "def bezout(m,n):\n",
    "    (d,u,v)=xgcd(m,n)\n",
    "    return u\n",
    "def ecuacioncongruencia(n1,n2,n3):\n",
    "    n1,n2=modulo(n1,n2,n3)\n",
    "    if tienesolucion(n1,n2,n3):\n",
    "       n1,n2,n3= reducirecuacion(n1,n2,n3)\n",
    "       u=bezout(n1,n3)\n",
    "       n1=n1*u\n",
    "       n2=n2*u\n",
    "       n1,n2=modulo(n1,n2,n3)\n",
    "       return n2,n3 \n",
    "    else:\n",
    "        print \"no hay solucion\"\n",
    "def siscongruencias(a1,b1,c1,a2,b2,c2):\n",
    "    b1,c1=ecuacioncongruencia(a1,b1,c1)\n",
    "    aux1,aux2=a2*b1,a2*c1\n",
    "    b2,c2=ecuacioncongruencia(aux2,b2-aux1,c2)\n",
    "    y=b1+(c1*b2)\n",
    "    z=c1*c2\n",
    "    return y,z\n",
    "def solcong(a,b,m):\n",
    "    a,b,m=a,b,m\n",
    "    x=xgcd(a,m)\n",
    "    if b % x[0]:\n",
    "        #return 'no tiene solucion'\n",
    "        return [0,0]\n",
    "    else:\n",
    "        m ,b= m // x[0],b // x[0]\n",
    "    return [b*x[1] % m , m]\n",
    "def sisCong(lista1):\n",
    "    s = [0,1]\n",
    "    while len(lista1)>2 and s[1]:\n",
    "        t=solcong(lista1[0]*s[1],lista1[1]-lista1[0]*s[0],lista1[2])\n",
    "        s = [s[0]+s[1] * t[0],t[1]*s[1]]\n",
    "        lista1[0:3]=[]\n",
    "    if s[1]:\n",
    "        return s\n",
    "    else:\n",
    "         return 'no tiene solucion'\n",
    "        "
   ]
  },
  {
   "cell_type": "code",
   "execution_count": 39,
   "metadata": {},
   "outputs": [],
   "source": [
    "NAlice=49569253\n",
    "eAlice=3\n",
    "NBob=45729283\n",
    "eBob=3\n",
    "NEve=62615533\n",
    "eEve=3\n",
    "cAlice=[14087331, 1176293, 46828916, 15244478, 34299711, 48939817]\n",
    "cBob=[27425305, 14483107, 13942406, 44901956, 24874564, 7906872]\n",
    "cEve=[62007067, 35550694, 62611116, 4185043, 52598842, 59059670]\n",
    "\n",
    "#cAlice=14087331\n",
    "#cBob=2897699\n",
    "alfabeto='ABCDEFGHIJKLMNOPQRSTUVWXYZ'\n",
    "L=len(alfabeto)"
   ]
  },
  {
   "cell_type": "code",
   "execution_count": 4,
   "metadata": {},
   "outputs": [
    {
     "data": {
      "text/plain": [
       "[1331475586633548091, 141934786230796950859267]"
      ]
     },
     "execution_count": 4,
     "metadata": {},
     "output_type": "execute_result"
    }
   ],
   "source": [
    "sisCong([1,14087331,49569253,1,27425305,45729283,1,62007067,62615533])"
   ]
  },
  {
   "cell_type": "code",
   "execution_count": 6,
   "metadata": {},
   "outputs": [
    {
     "data": {
      "text/plain": [
       "1.10013100000000e6"
      ]
     },
     "execution_count": 6,
     "metadata": {},
     "output_type": "execute_result"
    }
   ],
   "source": [
    "def nroot(x,n):\n",
    "    return x**(1/n).n()\n",
    "nroot(1331475586633548091,3)"
   ]
  },
  {
   "cell_type": "code",
   "execution_count": 7,
   "metadata": {},
   "outputs": [
    {
     "data": {
      "text/plain": [
       "[64998944742277873664, 141934786230796950859267]"
      ]
     },
     "execution_count": 7,
     "metadata": {},
     "output_type": "execute_result"
    }
   ],
   "source": [
    "sisCong([1,1176293,49569253,1,14483107,45729283,1,35550694,62615533])"
   ]
  },
  {
   "cell_type": "code",
   "execution_count": 8,
   "metadata": {},
   "outputs": [
    {
     "data": {
      "text/plain": [
       "4.02070400000000e6"
      ]
     },
     "execution_count": 8,
     "metadata": {},
     "output_type": "execute_result"
    }
   ],
   "source": [
    "def nroot(x,n):\n",
    "    return x**(1/n).n()\n",
    "nroot(64998944742277873664,3)"
   ]
  },
  {
   "cell_type": "code",
   "execution_count": 9,
   "metadata": {},
   "outputs": [
    {
     "data": {
      "text/plain": [
       "[73050358288627000, 141934786230796950859267]"
      ]
     },
     "execution_count": 9,
     "metadata": {},
     "output_type": "execute_result"
    }
   ],
   "source": [
    "sisCong([1,46828916,49569253,1,13942406,45729283,1,62611116,62615533])"
   ]
  },
  {
   "cell_type": "code",
   "execution_count": 13,
   "metadata": {},
   "outputs": [
    {
     "data": {
      "text/plain": [
       "418030.000000000"
      ]
     },
     "execution_count": 13,
     "metadata": {},
     "output_type": "execute_result"
    }
   ],
   "source": [
    "def nroot(x,n):\n",
    "    return x**(1/n).n()\n",
    "nroot(73050358288627000,3)"
   ]
  },
  {
   "cell_type": "code",
   "execution_count": 10,
   "metadata": {},
   "outputs": [
    {
     "data": {
      "text/plain": [
       "[69498414788478126632, 141934786230796950859267]"
      ]
     },
     "execution_count": 10,
     "metadata": {},
     "output_type": "execute_result"
    }
   ],
   "source": [
    "sisCong([1,15244478,49569253,1,44901956,45729283,1,4185043,62615533])"
   ]
  },
  {
   "cell_type": "code",
   "execution_count": 14,
   "metadata": {},
   "outputs": [
    {
     "data": {
      "text/plain": [
       "4.11141800000000e6"
      ]
     },
     "execution_count": 14,
     "metadata": {},
     "output_type": "execute_result"
    }
   ],
   "source": [
    "def nroot(x,n):\n",
    "    return x**(1/n).n()\n",
    "nroot(69498414788478126632,3)"
   ]
  },
  {
   "cell_type": "code",
   "execution_count": 11,
   "metadata": {},
   "outputs": [
    {
     "data": {
      "text/plain": [
       "[216206345672767871, 141934786230796950859267]"
      ]
     },
     "execution_count": 11,
     "metadata": {},
     "output_type": "execute_result"
    }
   ],
   "source": [
    "sisCong([1,34299711,49569253,1,24874564,45729283,1,52598842,62615533])"
   ]
  },
  {
   "cell_type": "code",
   "execution_count": 15,
   "metadata": {},
   "outputs": [
    {
     "data": {
      "text/plain": [
       "600191.000000000"
      ]
     },
     "execution_count": 15,
     "metadata": {},
     "output_type": "execute_result"
    }
   ],
   "source": [
    "def nroot(x,n):\n",
    "    return x**(1/n).n()\n",
    "nroot(216206345672767871,3)"
   ]
  },
  {
   "cell_type": "code",
   "execution_count": 12,
   "metadata": {},
   "outputs": [
    {
     "data": {
      "text/plain": [
       "[73151164942912005048, 141934786230796950859267]"
      ]
     },
     "execution_count": 12,
     "metadata": {},
     "output_type": "execute_result"
    }
   ],
   "source": [
    "sisCong([1,48939817,49569253,1,7906872,45729283,1,59059670,62615533])"
   ]
  },
  {
   "cell_type": "code",
   "execution_count": 16,
   "metadata": {},
   "outputs": [
    {
     "data": {
      "text/plain": [
       "4.18222200000000e6"
      ]
     },
     "execution_count": 16,
     "metadata": {},
     "output_type": "execute_result"
    }
   ],
   "source": [
    "def nroot(x,n):\n",
    "    return x**(1/n).n()\n",
    "nroot(73151164942912005048,3)"
   ]
  },
  {
   "cell_type": "code",
   "execution_count": 18,
   "metadata": {},
   "outputs": [
    {
     "ename": "SyntaxError",
     "evalue": "invalid syntax (<ipython-input-18-a9ad497e8953>, line 2)",
     "output_type": "error",
     "traceback": [
      "\u001b[0;36m  File \u001b[0;32m\"<ipython-input-18-a9ad497e8953>\"\u001b[0;36m, line \u001b[0;32m2\u001b[0m\n\u001b[0;31m    L  A   N  O  C  H  E E  S D  E   L O  S  G  A  T  O  S W   W\u001b[0m\n\u001b[0m       ^\u001b[0m\n\u001b[0;31mSyntaxError\u001b[0m\u001b[0;31m:\u001b[0m invalid syntax\n"
     ]
    }
   ],
   "source": [
    "c=[11001314020704041803041114186001914182222]\n",
    "L  A   N  O  C  H  E E  S D  E   L O  S  G  A  T  O  S W   W"
   ]
  },
  {
   "cell_type": "code",
   "execution_count": null,
   "metadata": {},
   "outputs": [],
   "source": []
  }
 ],
 "metadata": {
  "kernelspec": {
   "display_name": "SageMath 8.1",
   "language": "",
   "name": "sagemath"
  },
  "language_info": {
   "codemirror_mode": {
    "name": "ipython",
    "version": 2
   },
   "file_extension": ".py",
   "mimetype": "text/x-python",
   "name": "python",
   "nbconvert_exporter": "python",
   "pygments_lexer": "ipython2",
   "version": "2.7.15+"
  }
 },
 "nbformat": 4,
 "nbformat_minor": 1
}
